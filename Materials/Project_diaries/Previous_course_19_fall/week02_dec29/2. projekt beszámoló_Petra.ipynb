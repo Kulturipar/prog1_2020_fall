{
 "cells": [
  {
   "cell_type": "markdown",
   "metadata": {},
   "source": [
    "#### Rossz hírek:\n",
    "\n",
    "Sajnos úgy néz ki, hogy nem tudom megcsinálni azt a projektet, aminek a tervét a múlt héten vázoltam. Nem sikerült megjavítanunk a typeform-ot, és úgy néz ki, hogy valalmi belsős hiba volt, ami miatt nem tudtuk használni. Ez csak a tegnapi ülésünkön derült ki, úgyhogy sajnos még nincs konkrét projektem. Van néhány ötletem, mindenképp valami SZKTP működését segítő projektet szeretnék leadni, ezzel kapcsolatban holnap/holnapután mindenképp megkeresem majd Benyát. Első sorban a hiányzó doksik bekéréséről szóló e-mailek automatizálására gondoltam, de sajnos nem tudom, hogy ez elegendő-e egy projektnek, szóval miután beszéltem Benyával mindenképpen írok egy e-mailt.\n",
    "\n",
    "#### Ami megvalósult:\n",
    "A héten megszereztem még egy AoC csillagot, amit már fel is töltöttem. Így 2-nél járok.\n",
    "\n",
    "#### Jövő hétre kitűzött célok:\n",
    "Jövő héten mindenképp szeretném jóvá tenni, hogy ez a napló ilyen szegényesre sikerült, szóval azt tűztem ki magam elé, hogy megszerzek 3 AoC csillagot, illetve gyakorlok a hackerrank-en, emellett pedig, a hét elején szeretném véglegesíteni a projektemet, hogy szerdától kezdve tudjak ezzel is haladni."
   ]
  }
 ],
 "metadata": {
  "kernelspec": {
   "display_name": "Python 3",
   "language": "python",
   "name": "python3"
  },
  "language_info": {
   "codemirror_mode": {
    "name": "ipython",
    "version": 3
   },
   "file_extension": ".py",
   "mimetype": "text/x-python",
   "name": "python",
   "nbconvert_exporter": "python",
   "pygments_lexer": "ipython3",
   "version": "3.7.3"
  }
 },
 "nbformat": 4,
 "nbformat_minor": 2
}
