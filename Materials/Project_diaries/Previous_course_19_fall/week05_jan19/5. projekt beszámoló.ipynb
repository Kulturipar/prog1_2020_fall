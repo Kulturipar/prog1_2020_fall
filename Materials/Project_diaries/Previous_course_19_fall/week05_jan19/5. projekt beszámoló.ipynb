{
 "cells": [
  {
   "cell_type": "markdown",
   "metadata": {},
   "source": [
    "### Projekt beszámoló\n",
    "\n",
    "##### Projekt állapot tervek\n",
    "A konzultáció óta nem haladtam a projekttel. Holnap és pénteken fogok vele haladni.\n",
    "\n",
    "##### Megvalósult\n",
    "Az e-mail küldésre írtam egy mintát, valamint már meg tudom keresni, hogy milyen file-ok vannak az egyes mappákban. A 8. megkezdett csillag megoldásán viszont sokat gondolkoztam, mert folyamatosan ezen kattogok, viszont a kódolásig nem jutottam el.\n",
    "\n",
    "##### Nem valósult meg\n",
    "Nagyon szerettem volna ma befejezni a projktet, hogy a felvételi közben 1-2 szabad órában már csak a csillagokkal kelljen foglalkozni, de ez sajnos nem jött össze. Megcsúsztam a fiúnap miatt, valamint a felvételivel is el kellett kezdenem ma foglalkozni, és még koordinátori oldalról is kellett foglalkozni a felvételivel.\n",
    "\n",
    "##### Következő hétre kitűzött célok\n",
    "A projektet muszáj befejeznem jövő héten, szerencsére két nap is lesz egy-két sávom ezzel foglalkozni.\n",
    "\n",
    "##### Heti források\n",
    "Nagyon sok van, amiket az e-mailezéshez, valamint a drive api-hoz használnom kellett, ezeket a projekt végén gyűjtöm majd össze.\n",
    "\n",
    "##### AoC csillagok\n",
    "Megrekedtem 7-nél, holnap szeretném átolvasni jó néhány feladatot, hogy meg tudjam állapítani, hogy melyek könnyebbek, melyekkel lenne érdemes folytatni."
   ]
  }
 ],
 "metadata": {
  "kernelspec": {
   "display_name": "Python 3",
   "language": "python",
   "name": "python3"
  },
  "language_info": {
   "codemirror_mode": {
    "name": "ipython",
    "version": 3
   },
   "file_extension": ".py",
   "mimetype": "text/x-python",
   "name": "python",
   "nbconvert_exporter": "python",
   "pygments_lexer": "ipython3",
   "version": "3.7.3"
  }
 },
 "nbformat": 4,
 "nbformat_minor": 2
}
