{
 "cells": [
  {
   "cell_type": "markdown",
   "metadata": {},
   "source": [
    "### feladat: írjatok egy függvényt, ami:\n",
    "- egy string-et fogad első paraméternek\n",
    "- **minden n-edik karakterét tartja csak meg (ahol n a függvény második paramétere), az összes többit kidobja**\n",
    "- és ez a módosított string a visszatérési értéke\n",
    "\n",
    "Figyeljetek rá, hogy Pythonban **nullától kezdődik az indexelés**!"
   ]
  },
  {
   "cell_type": "markdown",
   "metadata": {},
   "source": [
    "----------------------------"
   ]
  },
  {
   "cell_type": "markdown",
   "metadata": {},
   "source": [
    "**a függvény két paraméterét a második és negyedik csapattól kapjátok meg (futtasátok a cellát Ctrl + Enter-rel)**"
   ]
  },
  {
   "cell_type": "code",
   "execution_count": 130,
   "metadata": {},
   "outputs": [],
   "source": [
    "input_string = 'abcde'\n",
    "n = 3#'ez lesz a negyedik csapattól kapott integer'"
   ]
  },
  {
   "cell_type": "markdown",
   "metadata": {},
   "source": [
    "**ennél pedig remélhetőleg írtok egy jobb függvényt :)**\n",
    "\n",
    "utána az előzőhöz hasonlóan futtassátok a cellát Ctrl+Enter-rel"
   ]
  },
  {
   "cell_type": "code",
   "execution_count": 127,
   "metadata": {},
   "outputs": [],
   "source": [
    "def csapat5(input_string, n):\n",
    "    out_s = \"_\" + input_string\n",
    "    return \"\".join([out_s[x] for x in range(1,len(input_string) + 1) if x % n == 0])"
   ]
  },
  {
   "cell_type": "markdown",
   "metadata": {},
   "source": [
    "----------------------------"
   ]
  },
  {
   "cell_type": "markdown",
   "metadata": {},
   "source": [
    "### itt tudjátok leellenőrizni, hogy jó-e a függvény, amit írtatok\n",
    "\n",
    "- az own_func helyére írjátok be a saját függvényetek nevét\n",
    "- a p1 és p2 helyére írjatok tetszőleges paramétereket: **egy szöveget és egy egész számot, és a szám ne legyen nagyobb, mint a szöveg hossza mínusz 1!**\n",
    "- futtassátok a cellát Ctrl + Enter-rel!"
   ]
  },
  {
   "cell_type": "code",
   "execution_count": null,
   "metadata": {},
   "outputs": [],
   "source": [
    "def insert (source_str, insert_str, pos):\n",
    "    return source_str[:pos]+insert_str+source_str[pos:]"
   ]
  },
  {
   "cell_type": "code",
   "execution_count": 131,
   "metadata": {},
   "outputs": [
    {
     "output_type": "stream",
     "name": "stdout",
     "text": [
      "Gratulálok! Megoldottad a feladatot!\n"
     ]
    }
   ],
   "source": [
    "from func import check_sel\n",
    "check_sel(csapat5,input_string,n)"
   ]
  },
  {
   "cell_type": "code",
   "execution_count": null,
   "metadata": {},
   "outputs": [],
   "source": []
  }
 ],
 "metadata": {
  "kernelspec": {
   "name": "python3",
   "display_name": "Python 3.8.2 64-bit",
   "metadata": {
    "interpreter": {
     "hash": "31f2aee4e71d21fbe5cf8b01ff0e069b9275f58929596ceb00d14d90e3e16cd6"
    }
   }
  },
  "language_info": {
   "codemirror_mode": {
    "name": "ipython",
    "version": 3
   },
   "file_extension": ".py",
   "mimetype": "text/x-python",
   "name": "python",
   "nbconvert_exporter": "python",
   "pygments_lexer": "ipython3",
   "version": "3.8.2-final"
  }
 },
 "nbformat": 4,
 "nbformat_minor": 2
}