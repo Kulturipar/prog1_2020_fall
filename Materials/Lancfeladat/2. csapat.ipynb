{
 "cells": [
  {
   "cell_type": "markdown",
   "metadata": {},
   "source": [
    "### feladat: írjatok egy függvényt, ami:\n",
    "- egy string-et fogad paraméternek\n",
    "- **az összes '+' jelet ','-re, az összes '-' jelent pedig '#'-re cseréli**\n",
    "- és ez a módosított string a visszatérési értéke"
   ]
  },
  {
   "cell_type": "markdown",
   "metadata": {},
   "source": [
    "----------------------------"
   ]
  },
  {
   "cell_type": "markdown",
   "metadata": {},
   "source": [
    "**a függvény paraméterét az első csapattól kapjátok meg (futtasátok a cellát Ctrl + Enter-rel)**"
   ]
  },
  {
   "cell_type": "code",
   "execution_count": null,
   "metadata": {
    "scrolled": true
   },
   "outputs": [],
   "source": [
    "input_string = 'ide írjátok az első csapattól kapott string-et'"
   ]
  },
  {
   "cell_type": "markdown",
   "metadata": {},
   "source": [
    "**ennél pedig remélhetőleg írtok egy jobb függvényt :)**\n",
    "\n",
    "utána az előzőhöz hasonlóan futtassátok a cellát Ctrl+Enter-rel"
   ]
  },
  {
   "cell_type": "code",
   "execution_count": null,
   "metadata": {
    "scrolled": true
   },
   "outputs": [],
   "source": [
    "def own_func (p):\n",
    "    return p"
   ]
  },
  {
   "cell_type": "markdown",
   "metadata": {},
   "source": [
    "----------------------------"
   ]
  },
  {
   "cell_type": "markdown",
   "metadata": {},
   "source": [
    "### itt tudjátok leellenőrizni, hogy jó-e a függvény, amit írtatok\n",
    "\n",
    "- az own_func helyére írjátok be a saját függvényetek nevét\n",
    "- a p helyére tetszőleges paramétert, amivel ellenőrzitek a függvényt\n",
    "- futtassátok a cellát Ctrl + Enter-rel!"
   ]
  },
  {
   "cell_type": "code",
   "execution_count": null,
   "metadata": {
    "scrolled": true
   },
   "outputs": [],
   "source": [
    "from func import check_rep\n",
    "check_rep(own_func, p)"
   ]
  },
  {
   "cell_type": "code",
   "execution_count": null,
   "metadata": {},
   "outputs": [],
   "source": []
  }
 ],
 "metadata": {
  "kernelspec": {
   "display_name": "Python 3",
   "language": "python",
   "name": "python3"
  },
  "language_info": {
   "codemirror_mode": {
    "name": "ipython",
    "version": 3
   },
   "file_extension": ".py",
   "mimetype": "text/x-python",
   "name": "python",
   "nbconvert_exporter": "python",
   "pygments_lexer": "ipython3",
   "version": "3.9.0"
  }
 },
 "nbformat": 4,
 "nbformat_minor": 2
}
