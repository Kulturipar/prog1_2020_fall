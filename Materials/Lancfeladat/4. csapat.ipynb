{
 "cells": [
  {
   "cell_type": "markdown",
   "metadata": {},
   "source": [
    "### feladat: írjatok egy függvényt, ami:\n",
    "- két számot fogad paraméterként\n",
    "- visszatérési értéke pedig a két szám legnagyobb közös osztója"
   ]
  },
  {
   "cell_type": "markdown",
   "metadata": {},
   "source": [
    "----------------------------"
   ]
  },
  {
   "cell_type": "markdown",
   "metadata": {},
   "source": [
    "**ezek lesznek a függvény paraméterei (futtasátok a cellát Ctrl + Enter-rel)**"
   ]
  },
  {
   "cell_type": "code",
   "execution_count": null,
   "metadata": {},
   "outputs": [],
   "source": [
    "input_integer_first = 'ez lesz a harmadik csapattól kapott egyik szám'\n",
    "input_integer_second = 'ez lesz a harmadik csapattól kapott másik szám'"
   ]
  },
  {
   "cell_type": "markdown",
   "metadata": {},
   "source": [
    "**ennél pedig remélhetőleg írtok egy jobb függvényt :)**\n",
    "\n",
    "utána az előzőhöz hasonlóan futtassátok a cellát Ctrl+Enter-rel"
   ]
  },
  {
   "cell_type": "markdown",
   "metadata": {},
   "source": [
    "----------------------------"
   ]
  },
  {
   "cell_type": "code",
   "execution_count": null,
   "metadata": {},
   "outputs": [],
   "source": [
    "def own_func(p1, p2):\n",
    "    return p1, p2"
   ]
  },
  {
   "cell_type": "markdown",
   "metadata": {},
   "source": [
    "### itt tudjátok leellenőrizni, hogy jó-e a függvény, amit írtatok\n",
    "\n",
    "- az own_func helyére írjátok be a saját függvényetek nevét\n",
    "- a p1 és p2 helyére tetszőleges paramétereket, amivel ellenőrzitek a függvényt\n",
    "- futtassátok a cellát Ctrl + Enter-rel!"
   ]
  },
  {
   "cell_type": "code",
   "execution_count": null,
   "metadata": {},
   "outputs": [],
   "source": [
    "from func import check_bcom\n",
    "check_bcom(own_func, p1, p2)"
   ]
  }
 ],
 "metadata": {
  "kernelspec": {
   "display_name": "Python 3",
   "language": "python",
   "name": "python3"
  },
  "language_info": {
   "codemirror_mode": {
    "name": "ipython",
    "version": 3
   },
   "file_extension": ".py",
   "mimetype": "text/x-python",
   "name": "python",
   "nbconvert_exporter": "python",
   "pygments_lexer": "ipython3",
   "version": "3.9.0"
  }
 },
 "nbformat": 4,
 "nbformat_minor": 2
}
