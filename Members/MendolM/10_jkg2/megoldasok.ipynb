{
 "cells": [
  {
   "cell_type": "code",
   "execution_count": 23,
   "metadata": {},
   "outputs": [],
   "source": [
    "import sys\n",
    "sys.path.insert(0, '..')\n",
    "from __import_file__ import MendolM\n",
    "from __import_file__ import KalotaiB\n",
    "from __import_file__ import BaratA\n",
    "from __import_file__ import ValentinyiA\n",
    "from __import_file__ import KeglV\n",
    "from __import_file__ import BalazsJ\n",
    "from __import_file__ import TompaM\n",
    "from __import_file__ import VelkeyA\n",
    "from __import_file__ import PapS"
   ]
  },
  {
   "cell_type": "markdown",
   "metadata": {},
   "source": [
    "## MendolM"
   ]
  },
  {
   "cell_type": "code",
   "execution_count": 63,
   "metadata": {},
   "outputs": [],
   "source": [
    "def MendolM_solution(list_of_words):\n",
    "    alma = list_of_words\n",
    "\n",
    "    a_szama = []\n",
    "    for i in alma:\n",
    "        i = i.lower()\n",
    "        szama = (i.count('a'))\n",
    "        a_szama.append(szama)\n",
    "\n",
    "    ha_egy = a_szama.index(max(a_szama))\n",
    "    if max(a_szama) == 0:\n",
    "        return -1\n",
    "    else: return ha_egy"
   ]
  },
  {
   "cell_type": "code",
   "execution_count": 64,
   "metadata": {},
   "outputs": [
    {
     "name": "stdout",
     "output_type": "stream",
     "text": [
      "- success rate: 495/495 (100.0%)\n",
      "- error count: 0\n",
      "- best performance: 1\n",
      "- worst performance: 1\n",
      "- mean performance: 1.0\n"
     ]
    }
   ],
   "source": [
    "MendolM.evaluate(MendolM_solution)"
   ]
  },
  {
   "cell_type": "markdown",
   "metadata": {},
   "source": [
    "## KalotaiB"
   ]
  },
  {
   "cell_type": "code",
   "execution_count": null,
   "metadata": {},
   "outputs": [],
   "source": [
    "def KalotaiB_solution():\n",
    "    # modify this function\n",
    "    # return value and parameters and all\n",
    "    return 0"
   ]
  },
  {
   "cell_type": "code",
   "execution_count": null,
   "metadata": {},
   "outputs": [],
   "source": [
    "KalotaiB.evaluate(KalotaiB_solution)"
   ]
  },
  {
   "cell_type": "markdown",
   "metadata": {},
   "source": [
    "## BaratA"
   ]
  },
  {
   "cell_type": "code",
   "execution_count": 65,
   "metadata": {},
   "outputs": [],
   "source": [
    "def BaratA_solution(list_of_numbers):\n",
    "    lista = []\n",
    "    \n",
    "    for i in list_of_numbers:\n",
    "        if i > 0 and i % 2 == 1:\n",
    "            lista.append(int(i))\n",
    "    lista = list(dict.fromkeys(lista))\n",
    "    return sum(lista)\n",
    "    "
   ]
  },
  {
   "cell_type": "code",
   "execution_count": 66,
   "metadata": {},
   "outputs": [
    {
     "name": "stdout",
     "output_type": "stream",
     "text": [
      "- success rate: 497/497 (100.0%)\n",
      "- error count: 0\n",
      "- best performance: 1\n",
      "- worst performance: 1\n",
      "- mean performance: 1.0\n"
     ]
    }
   ],
   "source": [
    "BaratA.evaluate(BaratA_solution)"
   ]
  },
  {
   "cell_type": "markdown",
   "metadata": {},
   "source": [
    "## ValentinyiA"
   ]
  },
  {
   "cell_type": "code",
   "execution_count": 67,
   "metadata": {},
   "outputs": [],
   "source": [
    "def ValentinyiA_solution(list_of_numbers, number):\n",
    "    lista = []    \n",
    "    for i in list_of_numbers:\n",
    "        if i % number == 0 and (i/number) % 2 == 0: \n",
    "            lista.append(i)\n",
    "    lista2 = sorted(lista)\n",
    "    if len(lista)>0:\n",
    "        return lista2[len(lista)-1]\n",
    "    else: return 0"
   ]
  },
  {
   "cell_type": "code",
   "execution_count": 68,
   "metadata": {},
   "outputs": [
    {
     "name": "stdout",
     "output_type": "stream",
     "text": [
      "- success rate: 497/497 (100.0%)\n",
      "- error count: 0\n",
      "- best performance: 1\n",
      "- worst performance: 1\n",
      "- mean performance: 1.0\n"
     ]
    }
   ],
   "source": [
    "ValentinyiA.evaluate(ValentinyiA_solution)"
   ]
  },
  {
   "cell_type": "markdown",
   "metadata": {},
   "source": [
    "## KeglV"
   ]
  },
  {
   "cell_type": "code",
   "execution_count": 69,
   "metadata": {},
   "outputs": [],
   "source": [
    "def KeglV_solution(list_of_numbers):\n",
    "    a = sorted(list_of_numbers)\n",
    "    max_szam = a[len(a)-1]*a[len(a)-2]\n",
    "    min_szam = a[0]*a[1]\n",
    "    nagyobb = [max_szam, min_szam]\n",
    "    return max(nagyobb)"
   ]
  },
  {
   "cell_type": "code",
   "execution_count": 70,
   "metadata": {},
   "outputs": [
    {
     "name": "stdout",
     "output_type": "stream",
     "text": [
      "- success rate: 497/497 (100.0%)\n",
      "- error count: 0\n",
      "- best performance: 1\n",
      "- worst performance: 1\n",
      "- mean performance: 1.0\n"
     ]
    }
   ],
   "source": [
    "KeglV.evaluate(KeglV_solution)"
   ]
  },
  {
   "cell_type": "markdown",
   "metadata": {},
   "source": [
    "## BalazsJ"
   ]
  },
  {
   "cell_type": "code",
   "execution_count": null,
   "metadata": {},
   "outputs": [],
   "source": [
    "def BalazsJ_solution():\n",
    "    # modify this function\n",
    "    # return value and parameters and all\n",
    "    return 0"
   ]
  },
  {
   "cell_type": "code",
   "execution_count": null,
   "metadata": {},
   "outputs": [],
   "source": [
    "BalazsJ.evaluate(BalazsJ_solution)"
   ]
  },
  {
   "cell_type": "markdown",
   "metadata": {},
   "source": [
    "## TompaM"
   ]
  },
  {
   "cell_type": "code",
   "execution_count": 71,
   "metadata": {},
   "outputs": [],
   "source": [
    "def TompaM_solution(list_of_numbers, number):\n",
    "    lista = []    \n",
    "    for i in list_of_numbers:\n",
    "        if i % number == 0 and (i/number) % 2 == 0: \n",
    "            lista.append(i)\n",
    "    lista2 = sorted(lista)\n",
    "    if len(lista)>0:\n",
    "        return lista2[len(lista)-1]\n",
    "    else: return 0\n"
   ]
  },
  {
   "cell_type": "code",
   "execution_count": 72,
   "metadata": {},
   "outputs": [
    {
     "name": "stdout",
     "output_type": "stream",
     "text": [
      "- success rate: 497/497 (100.0%)\n",
      "- error count: 0\n",
      "- best performance: 1\n",
      "- worst performance: 1\n",
      "- mean performance: 1.0\n"
     ]
    }
   ],
   "source": [
    "TompaM.evaluate(TompaM_solution)"
   ]
  },
  {
   "cell_type": "markdown",
   "metadata": {},
   "source": [
    "## VelkeyA"
   ]
  },
  {
   "cell_type": "code",
   "execution_count": 73,
   "metadata": {},
   "outputs": [],
   "source": [
    "def VelkeyA_solution(list_of_numbers):\n",
    "\n",
    "    a = sorted(list_of_numbers)\n",
    "    b = []\n",
    "    for i in a:\n",
    "        x = i*2\n",
    "        for i in a:\n",
    "            if x == i:\n",
    "                b.append(x/2)\n",
    "    if len(b) == 0:\n",
    "        return 0\n",
    "    else:return b[0]"
   ]
  },
  {
   "cell_type": "code",
   "execution_count": 74,
   "metadata": {},
   "outputs": [
    {
     "name": "stdout",
     "output_type": "stream",
     "text": [
      "- success rate: 497/497 (100.0%)\n",
      "- error count: 0\n",
      "- best performance: 1\n",
      "- worst performance: 1\n",
      "- mean performance: 1.0\n"
     ]
    }
   ],
   "source": [
    "VelkeyA.evaluate(VelkeyA_solution)"
   ]
  },
  {
   "cell_type": "markdown",
   "metadata": {},
   "source": [
    "## PapS"
   ]
  },
  {
   "cell_type": "code",
   "execution_count": 75,
   "metadata": {},
   "outputs": [],
   "source": [
    "def PapS_solution(list_of_words):\n",
    "    max_a = 0\n",
    "    max_a_index = -1\n",
    "    for index, value in enumerate(list_of_words):\n",
    "        value = value.lower()\n",
    "        a_num = value.count('a')\n",
    "        if a_num > max_a:\n",
    "            max_a = a_num\n",
    "            max_a_index = index\n",
    "    return max_a_index\n",
    "            "
   ]
  },
  {
   "cell_type": "code",
   "execution_count": 76,
   "metadata": {},
   "outputs": [
    {
     "name": "stdout",
     "output_type": "stream",
     "text": [
      "- success rate: 495/495 (100.0%)\n",
      "- error count: 0\n",
      "- best performance: 1\n",
      "- worst performance: 1\n",
      "- mean performance: 1.0\n"
     ]
    }
   ],
   "source": [
    "PapS.evaluate(PapS_solution)"
   ]
  },
  {
   "cell_type": "code",
   "execution_count": null,
   "metadata": {},
   "outputs": [],
   "source": []
  }
 ],
 "metadata": {
  "kernelspec": {
   "display_name": "Python 3",
   "language": "python",
   "name": "python3"
  },
  "language_info": {
   "codemirror_mode": {
    "name": "ipython",
    "version": 3
   },
   "file_extension": ".py",
   "mimetype": "text/x-python",
   "name": "python",
   "nbconvert_exporter": "python",
   "pygments_lexer": "ipython3",
   "version": "3.8.3"
  }
 },
 "nbformat": 4,
 "nbformat_minor": 2
}
