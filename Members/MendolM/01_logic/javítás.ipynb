{
 "cells": [
  {
   "cell_type": "markdown",
   "metadata": {},
   "source": [
    "### A: *k-nak és d-nek van közös lánya*\n",
    "\n",
    "#### Megoldásod:\n",
    "\n",
    "$\\exists k F(k) \\land \\exists d N(d) \\land \\exists n N(n) \\land P(k,n) \\land P(d,n)$\n",
    "\n",
    "#### Visszajelzés:\n",
    "\n",
    "- szintaxis: a kvantorral bevezetett paraméterek után kéne zárójel\n",
    "- tartalom: $k$-t és $d$-t nem kell kvantorral megkötni, mert ezek konrét személyek\n",
    "\n",
    "#### Példa helyes megoldásra:\n",
    "\n",
    "$\\exists x(N(x) \\land P(k,x) \\land P(d,x))$\n",
    "\n",
    "------------------------------------------------\n",
    "\n",
    "### B: *csak a férfiak között vannak gyermektelenek*\n",
    "\n",
    "#### Megoldásod:\n",
    "\n",
    "$\\nexists x(F(x) \\land \\exists z \\land P(x,z)) \\land \\nexists y(N(y) \\land \\nexists z \\land P(y,z)$\n",
    "\n",
    "#### Visszajelzés:\n",
    "\n",
    "- szintaxis:\n",
    "    - az $\\exists z \\land P(x,z)$ értelmetlen, helyette $\\exists z (P(x,z))$-t kell használni\n",
    "    - a végéről lemaradt egy zárójel\n",
    "- tartalom: azt állítod, hogy nincs olyan férfi, akinek van gyereke, pedig az eredeti állítás csak annyit mond, hogy vannak gyermektelen férfiak (a nőkre vonatkozó rész helyes)\n",
    "\n",
    "#### Példa helyes megoldásra:\n",
    "\n",
    "$\\forall x(\\nexists y(P(x,y)) \\Rightarrow F(x)) \\land \\exists x(\\nexists y(P(x,y)))$\n",
    "\n",
    "vagy: $\\exists f(F(f) \\land \\nexists x(P(f,x))) \\land \\nexists n(N(n) \\land \\nexists y(P(n,y)))$\n",
    "\n",
    "------------------------------------------------\n",
    "\n",
    "### C: *vannak egynemű testvérek*\n",
    "\n",
    "#### Megoldásod:\n",
    "\n",
    "$\\exists x F(x) \\land \\exists y \\land P(y,x) \\land \\exists z F(z) \\land P(y,z) \\lor \\exists a N(a) \\land P(y,a) \\land \\exists c N(c) \\land P(y,c)$\n",
    "\n",
    "#### Visszajelzés:\n",
    "\n",
    "- szintaxis:\n",
    "    - ahogy az előzőnél, a $\\exists y \\land P(y,x)$ helyett $\\exists y(P(y,x))$-et kell írni\n",
    "    - a sorrend és a zárójelek hiánya összezavaró, ha egy kifejezés tartalmaz egy korábban kvantorral megkötött paramétert, akkor annak a kifejezésnek a kvantorhoz tartozó zárójelen belül kell lennie. a te megoldásodban a teljes kifejezés vonatkozik $y$-ra, míg $x$-re csak a fele, ezért így írnám: $\\exists y(\\exists x(F(x) \\land P(y,x) \\land \\exists z(F(z) \\land P(y,z))) \\lor \\exists a(N(a) \\land P(y,a) \\land \\exists c(N(c) \\land P(y,c))))$\n",
    "- tartalom: így is csak azt állítod, hogy vannak féltestvérek (a testvérhez két közös szülő kell)\n",
    "\n",
    "#### Példa helyes megoldásra:\n",
    "*Én kikötöm, hogy az egyik szülő nő, a másik férfi, mert biológiai testvérekként értelmezem az állításban szereplőket, de ezt el lehet hagyni.*\n",
    "\n",
    "$\\exists (x,y,m,f)((N(x) \\Leftrightarrow N(y)) \\land N(m) \\land P(m,x) \\land P(m,y) \\land F(f) \\land P(f,x) \\land P(f,y))$\n",
    "\n",
    "vagy: $\\exists (x,y,m,f)(((F(x) \\land F(y)) \\lor (N(x) \\land N(y))) \\land N(m) \\land P(m,x) \\land P(m,y) \\land F(f) \\land P(f,x) \\land P(f,y))$"
   ]
  }
 ],
 "metadata": {
  "kernelspec": {
   "display_name": "Python 3",
   "language": "python",
   "name": "python3"
  },
  "language_info": {
   "codemirror_mode": {
    "name": "ipython",
    "version": 3
   },
   "file_extension": ".py",
   "mimetype": "text/x-python",
   "name": "python",
   "nbconvert_exporter": "python",
   "pygments_lexer": "ipython3",
   "version": "3.7.3"
  }
 },
 "nbformat": 4,
 "nbformat_minor": 2
}
