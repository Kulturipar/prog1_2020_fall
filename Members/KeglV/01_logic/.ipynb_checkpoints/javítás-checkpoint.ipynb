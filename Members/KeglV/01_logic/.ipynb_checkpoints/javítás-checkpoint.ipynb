{
 "cells": [
  {
   "cell_type": "markdown",
   "metadata": {},
   "source": [
    "**Általánosan: végig a *metszet* halmazművelet jelét ($\\cap$) használtad az *és* logikai művelet jele ($\\land$) helyett. Bár van fogalmi kapcsolat a kettő között, ezeket jobb nem keverni.**\n",
    "\n",
    "### A: *k-nak és d-nek van közös lánya*\n",
    "\n",
    "#### Megoldásod:\n",
    "\n",
    "$\\exists y(P(y,k) \\land P(y,d))$\n",
    "\n",
    "#### Visszajelzés:\n",
    "\n",
    "- szintaxis: a $P$ predikátum paramétereit felcserélted, így azt állítod, hogy $k$ és $d$ $y$ gyerekei\n",
    "- tartalom: hiányzik, hogy $y$ nő\n",
    "\n",
    "#### Példa helyes megoldásra:\n",
    "\n",
    "$\\exists x(N(x) \\land P(k,x) \\land P(d,x))$\n",
    "\n",
    "------------------------------------------------\n",
    "\n",
    "### B: *csak a férfiak között vannak gyermektelenek*\n",
    "\n",
    "#### Megoldásod:\n",
    "\n",
    "$\\exists x(F(x) \\land \\nexists y(P(x,y))) \\land \\nexists z(N(z) \\land \\nexists z(P(z,y)))$\n",
    "\n",
    "#### Visszajelzés:\n",
    "\n",
    "- szintaxis: szerintem a végén elírtad a paramétereket, annak lenne értelme, hogy $...\\land \\nexists y(P(z,y)))$\n",
    "- tartalom: ha a fenti hiba tényleg csak elírás, akkor különben jó a megoldás\n",
    "\n",
    "#### Példa helyes megoldásra:\n",
    "\n",
    "$\\forall x(\\nexists y(P(x,y)) \\Rightarrow F(x)) \\land \\exists x(\\nexists y(P(x,y)))$\n",
    "\n",
    "vagy ahogy te csináltad, a javítással együtt\n",
    "\n",
    "------------------------------------------------\n",
    "\n",
    "### C: *vannak egynemű testvérek*\n",
    "\n",
    "#### Megoldásod:\n",
    "\n",
    "$\\exists a(F(a) \\land P(a,x) \\land P(a,y)) \\land \\exists b(F(b) \\land P(b,x) \\land P(a,x))$\n",
    "\n",
    "#### Visszajelzés:\n",
    "\n",
    "- szintaxis: a paramétereket a vége felé eléggé összekeverted, ha $a$ és $b$ az egynemű testvérek, és $x,y$ a szüleik, akkor úgy lenne értelme, hogy $\\exists a(F(a) \\land P(x,a) \\land P(y,a)) \\land \\exists b(F(b) \\land P(x,b) \\land P(y,b))$\n",
    "- tartalom:\n",
    "    - de így még mindig nem vagyunk meg, mert $x$ és $y$ nem konkrét személyek, tehát egy kvantorral meg kell kötni őket (létezik olyan $x,y$, akik $a,b$ szülei)\n",
    "    - a másik, hogy te azt állítod, **vannak fiútestvérek**, pedig az eredeti állítás **csak az egyneműséget követeli meg**\n",
    "\n",
    "#### Példa helyes megoldásra:\n",
    "*Én kikötöm, hogy az egyik szülő nő, a másik férfi, mert biológiai testvérekként értelmezem az állításban szereplőket, de ezt el lehet hagyni.*\n",
    "\n",
    "$\\exists (x,y,m,f)((N(x) \\Leftrightarrow N(y)) \\land N(m) \\land P(m,x) \\land P(m,y) \\land F(f) \\land P(f,x) \\land P(f,y))$\n",
    "\n",
    "vagy: $\\exists (x,y,m,f)(((F(x) \\land F(y)) \\lor (N(x) \\land N(y))) \\land N(m) \\land P(m,x) \\land P(m,y) \\land F(f) \\land P(f,x) \\land P(f,y))$"
   ]
  }
 ],
 "metadata": {
  "kernelspec": {
   "display_name": "Python 3",
   "language": "python",
   "name": "python3"
  },
  "language_info": {
   "codemirror_mode": {
    "name": "ipython",
    "version": 3
   },
   "file_extension": ".py",
   "mimetype": "text/x-python",
   "name": "python",
   "nbconvert_exporter": "python",
   "pygments_lexer": "ipython3",
   "version": "3.7.3"
  }
 },
 "nbformat": 4,
 "nbformat_minor": 2
}
