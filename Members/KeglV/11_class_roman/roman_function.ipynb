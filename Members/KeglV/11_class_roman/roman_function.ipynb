{
 "cells": [
  {
   "cell_type": "code",
   "execution_count": 1,
   "metadata": {},
   "outputs": [],
   "source": [
    "import requests\n",
    "from bs4 import BeautifulSoup\n",
    "import pandas as pd"
   ]
  },
  {
   "cell_type": "code",
   "execution_count": 2,
   "metadata": {},
   "outputs": [],
   "source": [
    "roms = pd.concat([pd.DataFrame(\n",
    "    [{'arab':a.text.split()[0],'roman':a.text.split()[1]} for a in \\\n",
    " BeautifulSoup(requests.get('https://smorgasborg.artlung.com/roman-numerals/page/%d' % p) \\\n",
    "              .content,'html5lib').find('pre').find_all('a')]) for p in range(1,11)])"
   ]
  },
  {
   "cell_type": "code",
   "execution_count": 3,
   "metadata": {},
   "outputs": [],
   "source": [
    "roms = roms[roms['arab'] != '0']"
   ]
  },
  {
   "cell_type": "code",
   "execution_count": 4,
   "metadata": {},
   "outputs": [],
   "source": [
    "def rom2ar_test(fun): # ez azokat az eseteket adja vissza, ahol az átváltás helytelen\n",
    "    calc = roms['roman'].apply(fun)\n",
    "    tru = roms['arab'].apply(int)\n",
    "    return roms[calc != tru]"
   ]
  },
  {
   "cell_type": "code",
   "execution_count": 5,
   "metadata": {},
   "outputs": [],
   "source": [
    "def rom2ar(rom_string):\n",
    "    if rom_string == 'V':\n",
    "        return 5\n",
    "    elif rom_string == 'I':\n",
    "        return 1\n",
    "    elif rom_string == 'X':\n",
    "        return 10\n",
    "    elif rom_string == 'L':\n",
    "        return 50\n",
    "    elif rom_string == 'C':\n",
    "        return 100\n",
    "    elif rom_string == 'D':\n",
    "        return 500\n",
    "    else:\n",
    "        return 1000"
   ]
  },
  {
   "cell_type": "code",
   "execution_count": 6,
   "metadata": {},
   "outputs": [
    {
     "data": {
      "text/html": [
       "<div>\n",
       "<style scoped>\n",
       "    .dataframe tbody tr th:only-of-type {\n",
       "        vertical-align: middle;\n",
       "    }\n",
       "\n",
       "    .dataframe tbody tr th {\n",
       "        vertical-align: top;\n",
       "    }\n",
       "\n",
       "    .dataframe thead th {\n",
       "        text-align: right;\n",
       "    }\n",
       "</style>\n",
       "<table border=\"1\" class=\"dataframe\">\n",
       "  <thead>\n",
       "    <tr style=\"text-align: right;\">\n",
       "      <th></th>\n",
       "      <th>arab</th>\n",
       "      <th>roman</th>\n",
       "    </tr>\n",
       "  </thead>\n",
       "  <tbody>\n",
       "    <tr>\n",
       "      <th>2</th>\n",
       "      <td>2</td>\n",
       "      <td>II</td>\n",
       "    </tr>\n",
       "    <tr>\n",
       "      <th>3</th>\n",
       "      <td>3</td>\n",
       "      <td>III</td>\n",
       "    </tr>\n",
       "    <tr>\n",
       "      <th>4</th>\n",
       "      <td>4</td>\n",
       "      <td>IV</td>\n",
       "    </tr>\n",
       "    <tr>\n",
       "      <th>6</th>\n",
       "      <td>6</td>\n",
       "      <td>VI</td>\n",
       "    </tr>\n",
       "    <tr>\n",
       "      <th>7</th>\n",
       "      <td>7</td>\n",
       "      <td>VII</td>\n",
       "    </tr>\n",
       "    <tr>\n",
       "      <th>...</th>\n",
       "      <td>...</td>\n",
       "      <td>...</td>\n",
       "    </tr>\n",
       "    <tr>\n",
       "      <th>996</th>\n",
       "      <td>9996</td>\n",
       "      <td>MMMMMMMMMCMXCVI</td>\n",
       "    </tr>\n",
       "    <tr>\n",
       "      <th>997</th>\n",
       "      <td>9997</td>\n",
       "      <td>MMMMMMMMMCMXCVII</td>\n",
       "    </tr>\n",
       "    <tr>\n",
       "      <th>998</th>\n",
       "      <td>9998</td>\n",
       "      <td>MMMMMMMMMCMXCVIII</td>\n",
       "    </tr>\n",
       "    <tr>\n",
       "      <th>999</th>\n",
       "      <td>9999</td>\n",
       "      <td>MMMMMMMMMCMXCIX</td>\n",
       "    </tr>\n",
       "    <tr>\n",
       "      <th>1000</th>\n",
       "      <td>10000</td>\n",
       "      <td>MMMMMMMMMM</td>\n",
       "    </tr>\n",
       "  </tbody>\n",
       "</table>\n",
       "<p>10001 rows × 2 columns</p>\n",
       "</div>"
      ],
      "text/plain": [
       "       arab              roman\n",
       "2         2                 II\n",
       "3         3                III\n",
       "4         4                 IV\n",
       "6         6                 VI\n",
       "7         7                VII\n",
       "...     ...                ...\n",
       "996    9996    MMMMMMMMMCMXCVI\n",
       "997    9997   MMMMMMMMMCMXCVII\n",
       "998    9998  MMMMMMMMMCMXCVIII\n",
       "999    9999    MMMMMMMMMCMXCIX\n",
       "1000  10000         MMMMMMMMMM\n",
       "\n",
       "[10001 rows x 2 columns]"
      ]
     },
     "execution_count": 6,
     "metadata": {},
     "output_type": "execute_result"
    }
   ],
   "source": [
    "rom2ar_test(rom2ar)"
   ]
  },
  {
   "cell_type": "markdown",
   "metadata": {},
   "source": [
    "Virág ezt a házit így nem tudjuk elfogadni. Kérlek írj egy olyan függvényt, ami átváltja az összes római karaktert arab számra, ebben ha elakadsz akkor keress minket és segítünk A mostani függvényed 5 héttel ezelőt tis meg tudtad volna írni, már nem ez az elvárás :D – VÁ"
   ]
  },
  {
   "cell_type": "code",
   "execution_count": null,
   "metadata": {},
   "outputs": [],
   "source": []
  }
 ],
 "metadata": {
  "kernelspec": {
   "display_name": "Python 3",
   "language": "python",
   "name": "python3"
  },
  "language_info": {
   "codemirror_mode": {
    "name": "ipython",
    "version": 3
   },
   "file_extension": ".py",
   "mimetype": "text/x-python",
   "name": "python",
   "nbconvert_exporter": "python",
   "pygments_lexer": "ipython3",
   "version": "3.8.6"
  }
 },
 "nbformat": 4,
 "nbformat_minor": 4
}
