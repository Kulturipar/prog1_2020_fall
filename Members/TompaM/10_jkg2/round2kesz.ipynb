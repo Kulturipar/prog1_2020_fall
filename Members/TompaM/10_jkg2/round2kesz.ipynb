{
 "cells": [
  {
   "cell_type": "code",
   "execution_count": 113,
   "metadata": {},
   "outputs": [],
   "source": [
    "import sys\n",
    "sys.path.insert(0, '..')\n",
    "from __import_file__ import MendolM\n",
    "from __import_file__ import KalotaiB\n",
    "from __import_file__ import BaratA\n",
    "from __import_file__ import ValentinyiA\n",
    "from __import_file__ import KeglV\n",
    "from __import_file__ import BalazsJ\n",
    "from __import_file__ import TompaM\n",
    "from __import_file__ import VelkeyA\n",
    "from __import_file__ import PapS"
   ]
  },
  {
   "cell_type": "markdown",
   "metadata": {},
   "source": [
    "## MendolM"
   ]
  },
  {
   "cell_type": "code",
   "execution_count": 124,
   "metadata": {},
   "outputs": [],
   "source": [
    "def MendolM_solution(list_of_words):\n",
    "    alma = list_of_words\n",
    "    a_szama = []\n",
    "    for i in alma:\n",
    "        i = i.lower()\n",
    "        szama = (i.count('a'))\n",
    "        a_szama.append(szama)\n",
    "\n",
    "    ha_egy = a_szama.index(max(a_szama))\n",
    "    if max(a_szama) == 0:\n",
    "        return -1\n",
    "    else: return ha_egy\n",
    "    return 0"
   ]
  },
  {
   "cell_type": "code",
   "execution_count": 127,
   "metadata": {},
   "outputs": [
    {
     "name": "stdout",
     "output_type": "stream",
     "text": [
      "- success rate: 495/495 (100.0%)\n",
      "- error count: 0\n",
      "- best performance: 1\n",
      "- worst performance: 1\n",
      "- mean performance: 1.0\n"
     ]
    }
   ],
   "source": [
    "MendolM.evaluate(MendolM_solution)"
   ]
  },
  {
   "cell_type": "markdown",
   "metadata": {},
   "source": [
    "## KalotaiB"
   ]
  },
  {
   "cell_type": "code",
   "execution_count": null,
   "metadata": {},
   "outputs": [],
   "source": [
    "def KalotaiB_solution():\n",
    "    # modify this function\n",
    "    # return value and parameters and all\n",
    "    return 0"
   ]
  },
  {
   "cell_type": "code",
   "execution_count": null,
   "metadata": {},
   "outputs": [],
   "source": [
    "KalotaiB.evaluate(KalotaiB_solution)"
   ]
  },
  {
   "cell_type": "markdown",
   "metadata": {},
   "source": [
    "## BaratA"
   ]
  },
  {
   "cell_type": "code",
   "execution_count": 68,
   "metadata": {},
   "outputs": [],
   "source": [
    "def BaratA_solution(list_of_numbers):\n",
    "    ujlista = []\n",
    "    for i in list_of_numbers:\n",
    "        if i > 0 and i%2 == 1:\n",
    "            ujlista.append(i)\n",
    "    ujlista = list (dict.fromkeys(ujlista))\n",
    "    return sum (ujlista)"
   ]
  },
  {
   "cell_type": "code",
   "execution_count": 69,
   "metadata": {},
   "outputs": [
    {
     "name": "stdout",
     "output_type": "stream",
     "text": [
      "- success rate: 497/497 (100.0%)\n",
      "- error count: 0\n",
      "- best performance: 1\n",
      "- worst performance: 1\n",
      "- mean performance: 1.0\n"
     ]
    }
   ],
   "source": [
    "BaratA.evaluate(BaratA_solution)"
   ]
  },
  {
   "cell_type": "markdown",
   "metadata": {},
   "source": [
    "## ValentinyiA"
   ]
  },
  {
   "cell_type": "code",
   "execution_count": null,
   "metadata": {},
   "outputs": [],
   "source": [
    "def ValentinyiA_solution():\n",
    "    # modify this function\n",
    "    # return value and parameters and all\n",
    "    return 0"
   ]
  },
  {
   "cell_type": "code",
   "execution_count": null,
   "metadata": {},
   "outputs": [],
   "source": [
    "ValentinyiA.evaluate(ValentinyiA_solution)"
   ]
  },
  {
   "cell_type": "markdown",
   "metadata": {},
   "source": [
    "## KeglV"
   ]
  },
  {
   "cell_type": "code",
   "execution_count": 24,
   "metadata": {},
   "outputs": [],
   "source": [
    "def KeglV_solution(lista):\n",
    "    a = sorted (lista)\n",
    "    b = a[0]*a[1]\n",
    "    c = a [-1]*a[-2]\n",
    "    if b > c:\n",
    "        return b\n",
    "    else:\n",
    "        return c"
   ]
  },
  {
   "cell_type": "code",
   "execution_count": 25,
   "metadata": {},
   "outputs": [
    {
     "name": "stdout",
     "output_type": "stream",
     "text": [
      "- success rate: 497/497 (100.0%)\n",
      "- error count: 0\n",
      "- best performance: 1\n",
      "- worst performance: 1\n",
      "- mean performance: 1.0\n"
     ]
    }
   ],
   "source": [
    "KeglV.evaluate(KeglV_solution)"
   ]
  },
  {
   "cell_type": "markdown",
   "metadata": {},
   "source": [
    "## BalazsJ"
   ]
  },
  {
   "cell_type": "code",
   "execution_count": null,
   "metadata": {},
   "outputs": [],
   "source": [
    "def BalazsJ_solution():\n",
    "    # modify this function\n",
    "    # return value and parameters and all\n",
    "    return 0"
   ]
  },
  {
   "cell_type": "code",
   "execution_count": null,
   "metadata": {},
   "outputs": [],
   "source": [
    "BalazsJ.evaluate(BalazsJ_solution)"
   ]
  },
  {
   "cell_type": "markdown",
   "metadata": {},
   "source": [
    "## TompaM"
   ]
  },
  {
   "cell_type": "code",
   "execution_count": null,
   "metadata": {},
   "outputs": [],
   "source": [
    "def TompaM_solution():\n",
    "    # modify this function\n",
    "    # return value and parameters and all\n",
    "    return 0"
   ]
  },
  {
   "cell_type": "code",
   "execution_count": null,
   "metadata": {},
   "outputs": [],
   "source": [
    "TompaM.evaluate(TompaM_solution)"
   ]
  },
  {
   "cell_type": "markdown",
   "metadata": {},
   "source": [
    "## VelkeyA"
   ]
  },
  {
   "cell_type": "code",
   "execution_count": 12,
   "metadata": {},
   "outputs": [],
   "source": [
    "def VelkeyA_solution(list_of_numbers):\n",
    "    a = sorted (list_of_numbers)\n",
    "    b = []\n",
    "    for i in a:\n",
    "        x = i*2\n",
    "        for l in a:\n",
    "            if l == x:\n",
    "                b.append(x/2)\n",
    "    if len(b) > 0:\n",
    "        return b [0]\n",
    "    else:\n",
    "        return 0"
   ]
  },
  {
   "cell_type": "code",
   "execution_count": 13,
   "metadata": {},
   "outputs": [
    {
     "name": "stdout",
     "output_type": "stream",
     "text": [
      "- success rate: 497/497 (100.0%)\n",
      "- error count: 0\n",
      "- best performance: 1\n",
      "- worst performance: 1\n",
      "- mean performance: 1.0\n"
     ]
    }
   ],
   "source": [
    "VelkeyA.evaluate(VelkeyA_solution)"
   ]
  },
  {
   "cell_type": "markdown",
   "metadata": {},
   "source": [
    "## PapS"
   ]
  },
  {
   "cell_type": "code",
   "execution_count": 128,
   "metadata": {},
   "outputs": [],
   "source": [
    "def PapS_solution(list_of_words):\n",
    "    max_a = 0\n",
    "    max_a_index = -1\n",
    "    for ciklusi, i in enumerate(list_of_words):\n",
    "        i = i.lower()\n",
    "        a_num = i.count('a')\n",
    "        if a_num > max_a:\n",
    "            max_a = a_num\n",
    "            max_a_index = i\n",
    "    return max_a_index"
   ]
  },
  {
   "cell_type": "code",
   "execution_count": 129,
   "metadata": {},
   "outputs": [
    {
     "name": "stdout",
     "output_type": "stream",
     "text": [
      "- success rate: 1/495 (0.0%)\n",
      "- error count: 0\n",
      "- best performance: 1\n",
      "- worst performance: 0\n",
      "- mean performance: 0.00202020202020202\n",
      "\n",
      "\n",
      " BAD SOLUTION at: \n",
      " {'list_of_words': ['aa', 'aaa', 'aa', 'a']}\n",
      "\n",
      "\n",
      " BAD SOLUTION at: \n",
      " {'list_of_words': ['ba', 'babab', 'AaAaA', 'Ahha']}\n",
      "\n",
      "\n",
      " BAD SOLUTION at: \n",
      " {'list_of_words': ['123', 'lala', '', '', '', 'aA']}\n",
      "\n",
      "\n",
      " BAD SOLUTION at: \n",
      " {'list_of_words': ['fOtZQri2u4xi7LjDoiI6quJCr5w5qvnmBHeTMrbOSwQtdAy4JXIFSq3TAfQpUSHOkFAmXMETrW5Cd26UGBRZkdSuz9AoGv7YkTXeQw67zr6', 'i9uOMLWnLn7zJ6giOfVnLbeagPQw2guwSaCwLsrpSsg10Gdcgj9WXUnYwRZzkrIIyz49oXH97Y', 'cNDVVPIrVCZy72A5AbuXzfEMWJHPNbwPvR41fHAebxSFIcKTh9HzgXfqd2tXAsG9AIhzVGAameIc886MMbWQCDblJ6WOjizJ9xIUSn1mf868sWwY895h', 'eWaGgby2RlRVODA502DkJigcpWGotNROxI2fk3Gzjls5HaLTnA4zwaJ4amTs4m0e9JzKVLjpIqg', 'VMQ2eaF7Dn2m59jEwanek8xBUrP08TNV4oCH1eC3TEQ9Z8eaeyeafRUppH2UhfKpmgLpLFsku34emivoCDPHQgDZ7ypVUC6uxjk8CZDNontccSzqYJqfOsU', 'm08AaNKSDUqIaAUKL9WXkfjWoRe2miQoLvcCoOqj6BSwTdtP2YU3IU3U6IwVsMkCVfYP6jnrxh2Gf', 'Uk7CP', 'raCpR7pQsbi9t29wBuB99qAweISYZYEWL4vzSCMrmvnjgkHB9CJZMNRALly1uDpBdnWavumWpFOazekqRCcjpxkmpaYYyDl', 'sEZryuBLyWslae5rwHwLC8QqFd09V45tOhwYL', 'jTAdlXhhemY0ClxdrlSVHRecTnuL82t6hBvbntbsmInzmFi5Ggd9JVrJCJtsQxue8ij36HA6aqUuudlEH7LWkJkhAeVY8AgfH']}\n",
      "\n",
      "\n",
      " BAD SOLUTION at: \n",
      " {'list_of_words': ['Ljo9A2pufaQC6EKrD9osam0TMxFfikqRih0j61poyP0BmjGHljcHySqfcoHNUhCJT0ANJ6JBj', 'hVJQ0RzIuv3iENncJ2o0ciuPTd7YtwUQCIjlCb3EDwpHULpqKLqtjj59ES6dvC6FXfF6boPc5njv5Q3SWCBJ3cWm0AYBgPP0IcQVYqRnYrsmr0MK0MPtnFpR', 'pRy0PxkLgIkGkp', 'ZDaHdnC29YvkTWZvU34AJmfNL3vug2ul2tFsXpvgkOgEZ', 'yZJ5', '7uUTABLfox87DwsdVC1MscG5UEMwPraKk96IJOp5LceA', '9cnlVuU4ykwhWILJHCeXAUwDW1V7UW7LNDeZ3tvsr4', 'SHfqsBsNddx078zLVOh2yZy0mb', 'sbcnNqzU4rz4Mh8WUQzR3nYj7QK0J4', 'hHOVeefFZJs', '1Mu8IPrCiXF2l1HekJ9wxtMAS9ewWXYfuGgp2a2ijzN8']}\n",
      "\n",
      "\n",
      " BAD SOLUTION at: \n",
      " {'list_of_words': ['hyGwtN4H1Dn', 'RHyOfLP8rL5GWmOlI8N0b3vxAealyvrfkkxd8v3TApe6Ebe7O4cipk34u7Y7eQbKJjbq9OxrQPkk6hkocuTtLYFmoaeW5iEzice65Hl8mEiHPe0kuYGlW', 'oPYSwSXuMt7la82aS6aUdAL3dsOj', 'hb3TtIweZyKNWBnnVchFJPBqCW86w5AfdmJqr1kG2lBm8ARYheqTfoX', 'Tpegh2Gm48uH6Btm', 'Q3pdZv2FAr2', '', 'BsoZ7y5BVYyO45LLK5nYKshcvBU8xVH94ZE9HM9eCMuGgYUkQM8yE7AvSle5o7x9Nke7uYHHhqfbhSPBWd8Lb6UWkitWCfpnhpKCxqvxAioBuEZdW60', 'i9Y174gqWFGiCXO543OTpTyhkxrDUCDvIyz49QMkv36CC3YihhPXvxHuGkd3uNkp6N1e6DYFnRdIJTLQhnzGdq0SyZ6z7tCU42sKRCGyoASyXKiqiJ5bKV1', 'RdeMzKOGxkYDCpcodtByXcKoB9H', 'prTBu', 'rLpZIfvfcEcutBZD2c6MbozQIEfKlki4XNl74xoOyNfzqp0iB4NDKbSqfXU']}\n",
      "\n",
      "\n",
      " BAD SOLUTION at: \n",
      " {'list_of_words': ['Y0csC0eyvYDeYC0k73t6jhRH4KAHpk', 'LDqg19tJBon0wNdoqGvnnoYaIPq6cP3xNlS3Hh3KsEK8AOExg9tWIwksJXKIihY6DzFXF89wqVlw78WW', 'ZxHGFxpzkFX5Bx8e6DqcL9WrOmfguSq5DFp1WKZ3am4LSraZOist9dFG770niSdyFhtpRQAVF3', 'Awk', 'XN4d9E725StASECUq1T2UJAXlPfXm7tTdBvELEuUdIet1JVIX9uWHDFybpKXCGcAnAFXvcSPfRmf0qORxfs', '9zwiF05pk263qCuUaNyMhdApIpvIIWEzzffVln4XcI0QK1vAHkcrJpogaxmphCIRkY56dq13Qvg2b3Ho24oAOOe6P1RFDexWDB6wnRoO3YcV2q3dUdnL2BG', '8rhV7yXdOS3ngLfWQJK3Z0FolLtA8KhU0R', 'JSZGl81SOgdnEBuWMxhsipXjgqZdOE1ZT7mafysOvswuQONACKgA36IyQwOQ9KNfLsef3MCZvAxFQat8wWWMsi0GTIktEFiJTXaSzTy3Bt89X', 'lsGUMZY0ySFzfI18c9uW9I4UiWr9eVYMthCSmeQj7pBghYwcEDssekO2WkcejRXRuPJtkVTJNXJnJUqMGiCiGeuWVdbHo8', 'aX8TQ7uSBLB01Ce9WfP829KhQqXc6ZQvqQ4gzDT7nVw2fKCN0QpBGEHIEeQvuBJ5s0hwG4wB9ZosJ4qFbPtS8jt8L4y4N6kSi1aK75XjGaDJnEHK', 'rtLZLoM8P9V7kgVWEY92HAR9JrCyARsA7MVRhKJ6ypgH9R7kYLmZmDi9PnP', 'U6hQXid9Vw7cL8aqv2yGS0mZi3E4UHhY8hPy1UunXlue45CfoMsDn8YUwrzTgeS8pwosS4gLq', 'L5ZalYNtfANQv5AXRIhhQOPewKnDD0lFUajRRa']}\n",
      "\n",
      "\n",
      " BAD SOLUTION at: \n",
      " {'list_of_words': ['N9VP4vHq', 'eQc86RU2r59Wd7UufiXOovCCCT8Lmf7uE7eytR8eHEI9TONF2NKGDUtVuZfL4Zmj5bm', '7QGwAzah4arWehFLJQ9GvdqwVtvxxpY7xdE8tIdM5QQlBgLNoEcqhOejXWcUCSrzDX8hDKphipuo4hz8h2POx1lF2Gm5rUVWFv47lC9EljshlUgi6byNaP', 'D59nzfk6wNqM8CoQoTtHadSHM661hk18p7sC', 'geUWWna5ss8gxbOfyC', 'wAICI9f62CilpieR8', 'IOkctl4PMYzm6q3UFBBWlEVSY0q0LBpfldZY22qRcZh4fICEYKvRrFbSw0mnT7xHFIKsi', 'll2Z4fJKflwyFhuM3PLJV3t7YqqpytajNKNb6BgfFGdWnRUYkOEyS5btwXfM95lVD5R96ylYFRzn3WIsPmcrqWiP1Tc8GpoHxIs0gZWDR7', 'coRrMq56xHlJM0xJ51vpROSLGpTi4BjWDohNnOZ', 'SbQjfZaDStWdRiBmuBLHwYWHhQZ0IjDC1XxQ67r4PEHp3MfR4A0TMm05HW58gqP1oqkHLZjnxT6ghFjOoGWjtc3AX17osLeAZsSMTjqS0kBBzTOTi', '11C', 'lHKWTDyLNfl2S', 'MTHUIpMduSN6TLwZRFMcS81IWiwbZYzx28UKrlGvtQgTbNlLNjWFuSOenz1g718191sxLpX3PJugo7', 'qLssvUYq1Y1iMB2vldkAezGR5']}\n",
      "\n",
      "\n",
      " BAD SOLUTION at: \n",
      " {'list_of_words': ['mfe9iuOTsK2pwTtgWPrYCZn90fWj8gqJyqgnPnwuUHWlP6A6npRauEkBwJb4Of6b1RdfsTa3epbSoWe2Wf7mxXS6Bb', 'ZPIImp9wL8uOeCEktwOHFhglGWaDdHgMZs8K5xzrpiNg', 'bs5WQcLBK6GOX21n', 'XlYUg72k7TbpGbnKmlNtmul8gWvnOrRIhtTJhpXHiCqRYFYNlHjrmf1Lwa2OEtg6SFYdiwj8dGJbtUNS5bxZd8q6boZN', 'tFZBYmZ39AoJN63kuQkt5KY0ZLZsSQ9ggGOf4QOY07rV9ll8N8dh8m5QA9t3QWwlGiQdl5GYCPiInLYKNg6jwygy3GQ', 'dZ3YM8uShR2AC3wBSCr5zK7lze57qzQQUumv3IbAHvRbsruEqjeSlAiPWZFp0ueKj3IU5CI8OEMVeLwfmT7wDLh1rzrOkIFaFqOGGSDj2KgTDVj', 'DI5RjvPr5Cn2', 'q70iphYxyp9F5oPAf7WnD776H3yiAeGURWr9QMOIBTZBFjnSME7x7dc8', 'rZIosMJbHle5DfGrbsOs12jihwHS4GkaFy2D5nGaEdKnCip', 'PGHEu4weG5a1RSvR35Yu8SQPxf7yuv4MxA8IP8sRjxuNWpDwzdkkHgeRtnjzKyFOvaz9tr56ypXlqGFjZYN9zObunfvRWCWpMmRhS98P8Zp4XT', 'OCi6Zypreazj389xl31iHqlykxsm5eJu6HdxtDIPCDbSeifpx81H6OTq2o15be00IMaX3VmbdSTWk', 'WyNu2uFb5pYe8rz5ruOWc6gVltATVFZoBlVsR6CVuwukcdgHdgKVChNvHxX2pHOHortdLzkyK3evCRwJXO0U0ndMGJWBJEiPGho6o1zOPWfEZckUVV', 'mFBl1rxHOb5WDqui', 'sQoJf5dzcqmZXvSpVlg7FairYUuOILMT9RrtQHDJgvCPRkbmIM0U8lWL6iCpX8VHkBdrfqtR2XSD8XI6is5EcbVJeemR', 'PwM61uIpufyfwzOllt9ER5NvJszbpyX9heG9jqQk3we8UVxxGlUJ8QxqrMlsoenF0hm2fLrWyA']}\n",
      "\n",
      "\n",
      " BAD SOLUTION at: \n",
      " {'list_of_words': ['j4iDSCtuz4KPdk1JsGtR2hg6GQj7VLSyLJLLcRXNYl9Jg3YefL0CXb51jtbjSu50RbvH38f', 'fwrKMwIW8sbFxBWIZiqK3WB0sQj', '2aEOj44gZiR7kp1gpSulN7HjMggtE8MhbTlFx3wzEGqpB7nopGCL6sQmFrDyeNhU42qFHRtaMsIht5rqJEQSlqb', 'nxd7PD8oLdv5uDJPgtrzEgVSQuFssSZTs2CfptCf8J7E3czthuKAslXHtxOkH8q3WZcsmq6JROePjoiH7gv', 'TEdpTS9kWQCYbiELU1blvIGjGxp29ulcKZBPNLbGlk2', '6zgPagigkYh86wIJexF70Kq01awZais5uMVCscIiazEAGPDXWdYugvaPRudqx6O5Ldk', 'lBHcfX6I14jAjracur0kFAQMOdEa6VPIpyg3rAh4E7cXIZJSQNkD3NpN260DD6Q7LvkuWnTfAOFb4KFgd7855KWR', '4SS8i3EKKqkTaqUfLrwpnx8rsTY', 'xtlxt3rhMlxX2NSxfoLmU4xV3P9OWYZL', 'hHsJRNRCyjN3ePP6psyLCsp8uhors0gJvoBHa42rVhYvMbkU', 'BbZ8Mbl5juc2VjHwUusrWgvz0J66fCwWfbuwUEshZ0JjDyWRZhCGPAiqyJdTlOTDUFWchiLp9bdlS', 'Ia', 'l11PByMxTV7NI3HyPdKqH1fX0Pu3n4oYrxvHCY06CWUZ6oj69gKpdsw7UAFzBjnRnO', 'ke7PqfUn', 'QzmA9X0pL2Cu9Pbwlh9FgPQ3YRJFdLgRCUh7eOwkXXLLZsMkXyE6', 'xwFeJBe64XC8xCJfUUHcgN1FtWK5OR']}\n"
     ]
    }
   ],
   "source": [
    "PapS.evaluate(PapS_solution)"
   ]
  },
  {
   "cell_type": "code",
   "execution_count": 23,
   "metadata": {},
   "outputs": [
    {
     "name": "stdout",
     "output_type": "stream",
     "text": [
      "3\n"
     ]
    }
   ],
   "source": [
    "lista = [3,5,2,4,6]\n",
    "lista = sorted (lista)\n",
    "print (lista [1])"
   ]
  }
 ],
 "metadata": {
  "kernelspec": {
   "display_name": "Python 3",
   "language": "python",
   "name": "python3"
  },
  "language_info": {
   "codemirror_mode": {
    "name": "ipython",
    "version": 3
   },
   "file_extension": ".py",
   "mimetype": "text/x-python",
   "name": "python",
   "nbconvert_exporter": "python",
   "pygments_lexer": "ipython3",
   "version": "3.8.5"
  }
 },
 "nbformat": 4,
 "nbformat_minor": 2
}
