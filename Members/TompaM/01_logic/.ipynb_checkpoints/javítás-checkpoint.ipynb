{
 "cells": [
  {
   "cell_type": "markdown",
   "metadata": {},
   "source": [
    "### A: *k-nak és d-nek van közös lánya*\n",
    "\n",
    "#### Megoldásod:\n",
    "\n",
    "$\\exists x(N(x) \\land P(k,x) \\land P(d,x))$\n",
    "\n",
    "#### Visszajelzés:\n",
    "\n",
    "- szintaxis: tökéletes\n",
    "- tartalom: tökéletes\n",
    "\n",
    "#### Példa helyes megoldásra:\n",
    "\n",
    "amit te is írtál\n",
    "\n",
    "------------------------------------------------\n",
    "\n",
    "### B: *csak a férfiak között vannak gyermektelenek*\n",
    "\n",
    "#### Megoldásod:\n",
    "\n",
    "$\\nexists x(N(x) \\land \\neg P(x,z)) \\land \\exists y(F(y) \\land \\neg P(y,q))$\n",
    "\n",
    "#### Visszajelzés:\n",
    "\n",
    "- szintaxis: jó, de a tartalmi hibák vannak\n",
    "- tartalom: ezzel azt mondod, hogy **nincs olyan nő, akinek $z$ nem a gyereke (tehát $z$ minden nőnek a gyereke), és van olyan férfi, akinek $q$ nem a gyereke**. $z$-t és $q$-t kvantorral kell megkötni ahhoz, hogy azt jelentse a kifejezés, mint az eredeti állítás (nincs olyan nő, akinek **egy $z$ sem a gyereke**, és van olyan férfi, akinek **egy $q$ sem a gyereke**)\n",
    "\n",
    "#### Példa helyes megoldásra:\n",
    "\n",
    "$\\forall x(\\nexists y(P(x,y)) \\Rightarrow F(x)) \\land \\exists x(\\nexists y(P(x,y)))$\n",
    "\n",
    "vagy: $\\exists f(F(f) \\land \\nexists x(P(f,x))) \\land \\nexists n(N(n) \\land \\nexists y(P(n,y)))$\n",
    "\n",
    "------------------------------------------------\n",
    "\n",
    "### C: *vannak egynemű testvérek*\n",
    "\n",
    "#### Megoldásod:\n",
    "\n",
    "$\\exists x \\land y(F(x) \\land F(y) \\land P(z,x) \\land P(q,x) \\land P(z,y) \\land P(q,y))$\n",
    "\n",
    "#### Visszajelzés:\n",
    "\n",
    "- szintaxis: olyan nincs, hogy $\\exists x \\land y$, itt az *és* szót vesszővel kell jelölni ($\\exists x,y$)\n",
    "- tartalom:\n",
    "    - egyrészt azt állítod csak, hogy **fiútestvérek vannak**, pedig az eredeti állítás **csak az egyneműséget követeli meg**\n",
    "    - másrészt $z$-t és $q$-t is kvantorral kell megkötni, mert nem konkrét személyek\n",
    "\n",
    "#### Példa helyes megoldásra:\n",
    "*Én kikötöm, hogy az egyik szülő nő, a másik férfi, mert biológiai testvérekként értelmezem az állításban szereplőket, de ezt el lehet hagyni.*\n",
    "\n",
    "$\\exists (x,y,m,f)((N(x) \\Leftrightarrow N(y)) \\land N(m) \\land P(m,x) \\land P(m,y) \\land F(f) \\land P(f,x) \\land P(f,y))$\n",
    "\n",
    "vagy: $\\exists (x,y,m,f)(((F(x) \\land F(y)) \\lor (N(x) \\land N(y))) \\land N(m) \\land P(m,x) \\land P(m,y) \\land F(f) \\land P(f,x) \\land P(f,y))$"
   ]
  }
 ],
 "metadata": {
  "kernelspec": {
   "display_name": "Python 3",
   "language": "python",
   "name": "python3"
  },
  "language_info": {
   "codemirror_mode": {
    "name": "ipython",
    "version": 3
   },
   "file_extension": ".py",
   "mimetype": "text/x-python",
   "name": "python",
   "nbconvert_exporter": "python",
   "pygments_lexer": "ipython3",
   "version": "3.7.3"
  }
 },
 "nbformat": 4,
 "nbformat_minor": 2
}
