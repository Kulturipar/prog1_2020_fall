{
 "cells": [
  {
   "cell_type": "code",
   "execution_count": null,
   "metadata": {},
   "outputs": [],
   "source": [
    "from jkg_evaluators import largest_even_divided"
   ]
  },
  {
   "cell_type": "code",
   "execution_count": null,
   "metadata": {},
   "outputs": [],
   "source": [
    "def find_largest_even_divided(list_of_numbers, number):\n",
    "    \n",
    "    while len(list_of_numbers) != 0:\n",
    "        list_of_numbers.sort()\n",
    "        if (list_of_numbers[-1] / number) % 2 == 0: \n",
    "            return list_of_numbers[-1]\n",
    "        elif (list_of_numbers[-1] / number) % 2 != 0:\n",
    "            list_of_numbers.remove(list_of_numbers[-1])\n",
    "    else: \n",
    "        return 0"
   ]
  },
  {
   "cell_type": "code",
   "execution_count": null,
   "metadata": {},
   "outputs": [],
   "source": [
    "largest_even_divided.evaluate(find_largest_even_divided)"
   ]
  }
 ],
 "metadata": {
  "kernelspec": {
   "display_name": "Python 3",
   "language": "python",
   "name": "python3"
  },
  "language_info": {
   "codemirror_mode": {
    "name": "ipython",
    "version": 3
   },
   "file_extension": ".py",
   "mimetype": "text/x-python",
   "name": "python",
   "nbconvert_exporter": "python",
   "pygments_lexer": "ipython3",
   "version": "3.9.0"
  }
 },
 "nbformat": 4,
 "nbformat_minor": 4
}
