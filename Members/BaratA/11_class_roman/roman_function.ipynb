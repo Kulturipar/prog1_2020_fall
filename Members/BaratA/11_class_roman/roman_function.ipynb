{
 "cells": [
  {
   "cell_type": "code",
   "execution_count": 1,
   "metadata": {},
   "outputs": [],
   "source": [
    "import requests\n",
    "from bs4 import BeautifulSoup\n",
    "import pandas as pd"
   ]
  },
  {
   "cell_type": "code",
   "execution_count": 2,
   "metadata": {},
   "outputs": [],
   "source": [
    "roms = pd.concat([pd.DataFrame(\n",
    "    [{'arab':a.text.split()[0],'roman':a.text.split()[1]} for a in \\\n",
    " BeautifulSoup(requests.get('https://smorgasborg.artlung.com/roman-numerals/page/%d' % p) \\\n",
    "              .content,'html5lib').find('pre').find_all('a')]) for p in range(1,11)])"
   ]
  },
  {
   "cell_type": "code",
   "execution_count": 3,
   "metadata": {},
   "outputs": [],
   "source": [
    "roms = roms[roms['arab'] != '0']"
   ]
  },
  {
   "cell_type": "code",
   "execution_count": 4,
   "metadata": {},
   "outputs": [],
   "source": [
    "def rom2ar_test(fun): # ez azokat az eseteket adja vissza, ahol az átváltás helytelen\n",
    "    calc = roms['roman'].apply(fun)\n",
    "    tru = roms['arab'].apply(int)\n",
    "    return roms[calc != tru]"
   ]
  },
  {
   "cell_type": "code",
   "execution_count": 5,
   "metadata": {},
   "outputs": [],
   "source": [
    "def rom2ar(rom_string):\n",
    "    number_d = {\"I\":1,\"V\":5,\"X\":10,\"L\":50,\"C\":100,\"D\":500,\"M\":1000}\n",
    "    conversion_table = []\n",
    "    first = 0\n",
    "    second = 1\n",
    "    if len(rom_string) < 2:\n",
    "        return number_d[rom_string]\n",
    "    else:\n",
    "        while first < len(rom_string):\n",
    "            if second > len(rom_string) - 1:\n",
    "                second = first\n",
    "            if number_d[rom_string[first]] < number_d[rom_string[second]]:\n",
    "                conversion_table.append(number_d[rom_string[second]] - number_d[rom_string[first]])\n",
    "                first += 2\n",
    "                second += 2\n",
    "            else:\n",
    "                conversion_table.append(number_d[rom_string[first]])\n",
    "                first += 1\n",
    "                second += 1\n",
    "        return sum(conversion_table)"
   ]
  },
  {
   "cell_type": "code",
   "execution_count": 6,
   "metadata": {},
   "outputs": [
    {
     "data": {
      "text/html": [
       "<div>\n",
       "<style scoped>\n",
       "    .dataframe tbody tr th:only-of-type {\n",
       "        vertical-align: middle;\n",
       "    }\n",
       "\n",
       "    .dataframe tbody tr th {\n",
       "        vertical-align: top;\n",
       "    }\n",
       "\n",
       "    .dataframe thead th {\n",
       "        text-align: right;\n",
       "    }\n",
       "</style>\n",
       "<table border=\"1\" class=\"dataframe\">\n",
       "  <thead>\n",
       "    <tr style=\"text-align: right;\">\n",
       "      <th></th>\n",
       "      <th>arab</th>\n",
       "      <th>roman</th>\n",
       "    </tr>\n",
       "  </thead>\n",
       "  <tbody>\n",
       "  </tbody>\n",
       "</table>\n",
       "</div>"
      ],
      "text/plain": [
       "Empty DataFrame\n",
       "Columns: [arab, roman]\n",
       "Index: []"
      ]
     },
     "execution_count": 6,
     "metadata": {},
     "output_type": "execute_result"
    }
   ],
   "source": [
    "rom2ar_test(rom2ar)"
   ]
  },
  {
   "cell_type": "code",
   "execution_count": 7,
   "metadata": {},
   "outputs": [],
   "source": [
    "class Roman:\n",
    "    \n",
    "    def __init__(self, c):\n",
    "        \n",
    "        if isinstance(c, str):\n",
    "            self.rom = c\n",
    "            self.num = 5\n",
    "        \n",
    "        elif isinstance(c, int):\n",
    "            self.rom = \"V\"\n",
    "            self.num = c\n",
    "            \n",
    "        \n",
    "    def add_other_num(self, x):\n",
    "        self.num += x\n",
    "        \n",
    "    def num_to_rom(self):\n",
    "        \"wudu\"\n",
    "        self.rom = \"XXV\"\n",
    "        \n",
    "    def rom_to_num(self, rom_string = None):\n",
    "        if rom_string == None:\n",
    "            rom_string = self.rom\n",
    "        number_d = {\"I\":1,\"V\":5,\"X\":10,\"L\":50,\"C\":100,\"D\":500,\"M\":1000}\n",
    "        conversion_table = []\n",
    "        first = 0\n",
    "        second = 1\n",
    "        if len(rom_string) < 2:\n",
    "            return number_d[rom_string]\n",
    "        else:\n",
    "            while first < len(rom_string):\n",
    "                if second > len(rom_string) - 1:\n",
    "                    second = first\n",
    "                if number_d[rom_string[first]] < number_d[rom_string[second]]:\n",
    "                    conversion_table.append(number_d[rom_string[second]] - number_d[rom_string[first]])\n",
    "                    first += 2\n",
    "                    second += 2\n",
    "                else:\n",
    "                    conversion_table.append(number_d[rom_string[first]])\n",
    "                    first += 1\n",
    "                    second += 1\n",
    "            return sum(conversion_table)"
   ]
  },
  {
   "cell_type": "code",
   "execution_count": 33,
   "metadata": {},
   "outputs": [
    {
     "data": {
      "text/plain": [
       "'V'"
      ]
     },
     "execution_count": 33,
     "metadata": {},
     "output_type": "execute_result"
    }
   ],
   "source": [
    "Roman(47)."
   ]
  },
  {
   "cell_type": "markdown",
   "metadata": {},
   "source": [
    "Az átváltó függvény jó, viszont a bépítéssel nem vagyok elégetett. Pl. a következő esetben jól működik a rom to num, viszont akármilyen self-et megadhatok a classnak, nem azt fogja átváltani, hanem azt a paramétert, amit a rom to num-ba megadok neki."
   ]
  },
  {
   "cell_type": "code",
   "execution_count": 36,
   "metadata": {},
   "outputs": [
    {
     "data": {
      "text/plain": [
       "1057"
      ]
     },
     "execution_count": 36,
     "metadata": {},
     "output_type": "execute_result"
    }
   ],
   "source": [
    "Roman(0).rom_to_num(\"MLVII\")"
   ]
  },
  {
   "cell_type": "markdown",
   "metadata": {},
   "source": [
    "Elegáns lenne mondjuk egy olyan megoldás szerintem, ahol a classnak megadok egy int-et vagy egy római stringet, és a self.rom, self.num paraméterek segítségével át tudom azt váltogatni. \n",
    "\n",
    "Pl. a Roman(\"XII\").rom visszatérési értéke \"XII\" a Roman(\"XII\").num visszatérési értéke 12, vice versa. Amúgy rendben van a házi, keress ha van valami. V. Ádi"
   ]
  },
  {
   "cell_type": "code",
   "execution_count": null,
   "metadata": {},
   "outputs": [],
   "source": []
  }
 ],
 "metadata": {
  "kernelspec": {
   "display_name": "Python 3",
   "language": "python",
   "name": "python3"
  },
  "language_info": {
   "codemirror_mode": {
    "name": "ipython",
    "version": 3
   },
   "file_extension": ".py",
   "mimetype": "text/x-python",
   "name": "python",
   "nbconvert_exporter": "python",
   "pygments_lexer": "ipython3",
   "version": "3.8.6"
  }
 },
 "nbformat": 4,
 "nbformat_minor": 4
}
