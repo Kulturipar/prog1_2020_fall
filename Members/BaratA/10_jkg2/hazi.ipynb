{
 "metadata": {
  "language_info": {
   "codemirror_mode": {
    "name": "ipython",
    "version": 3
   },
   "file_extension": ".py",
   "mimetype": "text/x-python",
   "name": "python",
   "nbconvert_exporter": "python",
   "pygments_lexer": "ipython3",
   "version": "3.8.2-final"
  },
  "orig_nbformat": 2,
  "kernelspec": {
   "name": "python3",
   "display_name": "Python 3.8.2 64-bit",
   "metadata": {
    "interpreter": {
     "hash": "31f2aee4e71d21fbe5cf8b01ff0e069b9275f58929596ceb00d14d90e3e16cd6"
    }
   }
  }
 },
 "nbformat": 4,
 "nbformat_minor": 2,
 "cells": [
  {
   "cell_type": "code",
   "execution_count": null,
   "metadata": {},
   "outputs": [],
   "source": []
  },
  {
   "cell_type": "code",
   "execution_count": null,
   "metadata": {},
   "outputs": [],
   "source": [
    "#KeglVirag\n",
    "#Definiáljuk a függvényt:\n",
    "#Az első lépésben deklaráljuk az \"a\" változót\n",
    "#Az \"a\" változónak értéket adunk, az adott érték a függvény paramétere lesz sorbarendezve\n",
    "#A második lépésben összehasonlítjuk az \"a\" értékeit\n",
    "#Az összehasonlítás alapja a listában elfoglalt hely lesz\n",
    "#A lista jobb és bal szélét nézzük meg, Egyszerre két értéket vizsgálunk\n",
    "#A vizsgált értékeket összeszorozzuk egymással\n",
    "#A lista jobb és bal szélét nézzük meg\n",
    "#Amelyik oldal nagyobb értéket vesz fel, azt keressük\n",
    "#Return a nagyobb érték lesz\n"
   ]
  },
  {
   "cell_type": "code",
   "execution_count": 178,
   "metadata": {},
   "outputs": [],
   "source": [
    "from jkg_evaluators import largest_multiple"
   ]
  },
  {
   "cell_type": "code",
   "execution_count": 197,
   "metadata": {},
   "outputs": [],
   "source": [
    "def kegl(input):\n",
    "    a = sorted(input)\n",
    "    if a[-1] * a[-2] > a[0] * a[1]:\n",
    "        return a[-1] * a[-2]\n",
    "    else:\n",
    "        return a[0] * a[1]"
   ]
  },
  {
   "cell_type": "code",
   "execution_count": 198,
   "metadata": {},
   "outputs": [
    {
     "output_type": "stream",
     "name": "stdout",
     "text": [
      "- success rate: 497/497 (100.0%)\n- error count: 0\n- best performance: 1\n- worst performance: 1\n- mean performance: 1.0\n"
     ]
    }
   ],
   "source": [
    "largest_multiple.evaluate(kegl)"
   ]
  },
  {
   "cell_type": "code",
   "execution_count": null,
   "metadata": {},
   "outputs": [],
   "source": [
    "#Artúr\n",
    "#Definiálok egy függvényt, aminek egy lista a paramétere, a következőkben ennek a függvénynek definícióját jellemzem:\n",
    "#Deklarálok egy A nevű listát és annak a listának értéket adok úgy hogy, meghívom a sorted függvényt a bemeneteli listára.\n",
    "#Ezután deklarálok egy új még üres B nevű listát.\n",
    "#Iterációt hajtok végre az A lista tagjain. Az iteráció ciklusmagjában deklarálok és értéket adok egy X nevű változónak, ami a lista éppen soron lévő tagjának duplája. Ezután mégegyszer végig iterálok az A listán, a második iteráció ciklusmagjában egy logikai vizsgálatot hajtok végre, amennyiben a második iterációban az adott tag egyenlő az X értékével, akkor a B listára meghívom az append függvényt, paraméterként az X/2 -vel. Ezzel vége a két iterációs ciklusnak.\n",
    "#Most létrehozok egy elágazást, az egyik oldalon azzal, hogy amennyiben a B lista nem üres, akkor a függvény visszatérési értéke a B lista első tagja, amennyiben ez nem áll fenn, akkor 0.\n"
   ]
  },
  {
   "cell_type": "code",
   "execution_count": 29,
   "metadata": {},
   "outputs": [],
   "source": [
    "from jkg_evaluators import smallest_where_double_also"
   ]
  },
  {
   "cell_type": "code",
   "execution_count": 42,
   "metadata": {},
   "outputs": [],
   "source": [
    "def artur(lista):\n",
    "    a = sorted(lista)\n",
    "    b = []\n",
    "    for i in range(len(a)):\n",
    "        x = a[i]*2\n",
    "        for j in range(len(a)):\n",
    "            if a[j] == x:\n",
    "                b.append(x/2)\n",
    "    if not b:\n",
    "        return 0\n",
    "    else:\n",
    "        return b[0]"
   ]
  },
  {
   "cell_type": "code",
   "execution_count": 43,
   "metadata": {},
   "outputs": [
    {
     "output_type": "stream",
     "name": "stdout",
     "text": [
      "- success rate: 497/497 (100.0%)\n- error count: 0\n- best performance: 1\n- worst performance: 1\n- mean performance: 1.0\n"
     ]
    }
   ],
   "source": [
    "smallest_where_double_also.evaluate(artur)"
   ]
  },
  {
   "cell_type": "code",
   "execution_count": 9,
   "metadata": {},
   "outputs": [],
   "source": [
    "from jkg_evaluators import string_with_most_a_letters"
   ]
  },
  {
   "cell_type": "code",
   "execution_count": 49,
   "metadata": {},
   "outputs": [],
   "source": [
    "def sebi(list_of_words):\n",
    "    max_a = 0\n",
    "    max_a_index = -1\n",
    "    #tup = [(i, list_of_words[i]) for i in range(len(list_of_words))]\n",
    "    for i,j in enumerate(list_of_words):\n",
    "        a_num = j.lower().count('a')\n",
    "        if a_num > max_a:\n",
    "            max_a = a_num\n",
    "            max_a_index = i\n",
    "    return max_a_index        \n"
   ]
  },
  {
   "cell_type": "code",
   "execution_count": 50,
   "metadata": {},
   "outputs": [
    {
     "output_type": "execute_result",
     "data": {
      "text/plain": [
       "0"
      ]
     },
     "metadata": {},
     "execution_count": 50
    }
   ],
   "source": [
    "listacska = [\"alma\",\"korte\",\"szo\"]\n",
    "sebi(listacska)"
   ]
  },
  {
   "cell_type": "code",
   "execution_count": 51,
   "metadata": {},
   "outputs": [
    {
     "output_type": "stream",
     "name": "stdout",
     "text": [
      "- success rate: 495/495 (100.0%)\n- error count: 0\n- best performance: 1\n- worst performance: 1\n- mean performance: 1.0\n"
     ]
    }
   ],
   "source": [
    "string_with_most_a_letters.evaluate(sebi)"
   ]
  },
  {
   "cell_type": "code",
   "execution_count": null,
   "metadata": {},
   "outputs": [],
   "source": [
    "#Anna\n",
    "#Első lépésként definiáltam a függvényt és megadtam a paramétereit.\n",
    "#Ezután definiáltam a listát a megadott paraméterekből származó inputnak megfelelően.\n",
    "#Következő lépésként végig iteráltam a listán, az iteráció ciklusmagjában a lista elemeit vizsgálva.\n",
    "#A programmal olyan páros elemeket kerestem, amelyek a paraméterben szereplő számmal elosztva páros számot adnak.\n",
    "#A program eltávolítja a listából a legnagyobb, a kritériumnak nem megfelelő elemet és az iteráció folytatódik.\n",
    "#Az utolsó lépés a függvény visszatérési értékének megadása. A visszatérési érték a legnagyobb olyan elem lesz, amelyet ha elosztunk, páros számot kapunk.\n",
    "#Amennyiben a ciklus nem talál egy ilyen értéket, a visszaadási érték nulla lesz."
   ]
  },
  {
   "cell_type": "code",
   "execution_count": 71,
   "metadata": {},
   "outputs": [],
   "source": [
    "from jkg_evaluators import largest_even_divided"
   ]
  },
  {
   "cell_type": "code",
   "execution_count": 174,
   "metadata": {},
   "outputs": [],
   "source": [
    "def VAnna(list_of_numbers, number):\n",
    "    l = []\n",
    "    for i in list_of_numbers:\n",
    "        if (i/number) % 2 == 0:\n",
    "            l.append(i)\n",
    "    if not l:\n",
    "        return 0\n",
    "    else:\n",
    "        return max(l)"
   ]
  },
  {
   "cell_type": "code",
   "execution_count": 176,
   "metadata": {},
   "outputs": [
    {
     "output_type": "stream",
     "name": "stdout",
     "text": [
      "- success rate: 497/497 (100.0%)\n- error count: 0\n- best performance: 1\n- worst performance: 1\n- mean performance: 1.0\n"
     ]
    }
   ],
   "source": [
    "largest_even_divided.evaluate(VAnna)"
   ]
  },
  {
   "cell_type": "code",
   "execution_count": null,
   "metadata": {},
   "outputs": [],
   "source": [
    "#Mendol\n",
    "#Kreáltam egy \"alma\" nevű listát, ami a függvény paraméterét jelentő listát tartalmazza (opcionális)\n",
    "#Ezt követően létrehoztam egy üres listát \"a_szama\" néven\n",
    "#Ehhez a listához elkezdtem iterálni az alma lista szavain\n",
    "#Először is minden szónál, minden betűt kisbetűre változtattam\n",
    "#Majd megszámoltam, hogy az egyes string változók hány darab \"a\" betűt tartalmaznak\n",
    "#Az \"a\" betűk számát a az iteráció sorrendjében hozzárendeltem az a_szama listához, amiben az iteráció végére belekerült az egyes szavakban található \"a\" betűk száma, megőrizve a kiindulási listában elfoglalt indexét\n",
    "#Majd a ha_egy nevű változómhoz hozzárendeltem a legtöbb \"a\" betűt tartalmazó string indexét egy index függvénybe ágyazott max fügvénnyel és végül ezt adtam meg visszatérési értéknek\n",
    "#Végül pedig elágaztattam két opciót, amennyiben a a_szama maximuma egyenlőha_egy változó értéke 0, a visszatérési érték legyen -1, egyébként pedig adja vissza annak a szónak az indexét, amelyik a legtöbb \"a\" betűt tartalmazza"
   ]
  },
  {
   "cell_type": "code",
   "execution_count": 130,
   "metadata": {},
   "outputs": [],
   "source": [
    "def Mendol(lista):\n",
    "    alma = lista\n",
    "    a_szama = []\n",
    "\n",
    "    for i in range(len(alma)):\n",
    "        #alma[i].lower()\n",
    "        a_szama.append(alma[i].lower().count('a'))\n",
    "        \n",
    "    ha_egy = a_szama.index(max(a_szama))\n",
    "    #print(ha_egy)\n",
    "    if max(a_szama) == 0:\n",
    "        return -1\n",
    "    else:\n",
    "        return ha_egy"
   ]
  },
  {
   "cell_type": "code",
   "execution_count": null,
   "metadata": {},
   "outputs": [],
   "source": [
    "#Matyi\n",
    "#Először definiálom a függvényt, megadva a paramétereit, a listát és a számot. \n",
    "#Ezután a lista elemein iterálok, a ciklusmagban azt vizsgálva, hogy a lista legnagyobb eleme megfelel-e a kritériumnak.\n",
    "#A kritérium, hogy a lista legnagyobb olyan elemét adja, ami a paraméterben szereplő számmal páros hányadost ad.\n",
    "#Amennyiben nem felel meg a kritériumnak, a ciklus folytatódik és eltávolítja a listából a legnagyobb nem megfelelő elemet. \n",
    "#Ha a ciklus nem talál az adott listában a kritériumnak megfelelő elemet, a visszaadási érték 0, ha talál megfelelő elemet, akkor a visszaadási érték az lesz."
   ]
  },
  {
   "cell_type": "code",
   "execution_count": 134,
   "metadata": {},
   "outputs": [],
   "source": [
    "def Matyi(list_of_numbers, num):\n",
    "    lst = []\n",
    "    for i in list_of_numbers:\n",
    "        if (i/num) % 2 == 0:\n",
    "            lst.append(i)\n",
    "    if not lst:\n",
    "        return 0\n",
    "    else:\n",
    "        return max(lst)"
   ]
  },
  {
   "cell_type": "code",
   "execution_count": 138,
   "metadata": {},
   "outputs": [
    {
     "output_type": "execute_result",
     "data": {
      "text/plain": [
       "0"
      ]
     },
     "metadata": {},
     "execution_count": 138
    }
   ],
   "source": [
    "listuli = [0,1,2,3,4]\n",
    "numma = 10\n",
    "Matyi(listuli, numma)"
   ]
  },
  {
   "cell_type": "code",
   "execution_count": 140,
   "metadata": {},
   "outputs": [
    {
     "output_type": "stream",
     "name": "stdout",
     "text": [
      "- success rate: 497/497 (100.0%)\n- error count: 0\n- best performance: 1\n- worst performance: 1\n- mean performance: 1.0\n"
     ]
    }
   ],
   "source": [
    "largest_even_divided.evaluate(Matyi)"
   ]
  },
  {
   "cell_type": "code",
   "execution_count": 169,
   "metadata": {},
   "outputs": [
    {
     "output_type": "stream",
     "name": "stdout",
     "text": [
      "8\n"
     ]
    }
   ],
   "source": [
    "a = -72 % 10\n",
    "print(a)"
   ]
  },
  {
   "cell_type": "code",
   "execution_count": null,
   "metadata": {},
   "outputs": [],
   "source": []
  }
 ]
}