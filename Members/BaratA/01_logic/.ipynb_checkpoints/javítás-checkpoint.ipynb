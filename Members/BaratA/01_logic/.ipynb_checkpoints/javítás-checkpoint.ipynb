{
 "cells": [
  {
   "cell_type": "markdown",
   "metadata": {},
   "source": [
    "### A: *k-nak és d-nek van közös lánya*\n",
    "\n",
    "#### Megoldásod:\n",
    "\n",
    "$\\exists(k,d,x)(N(x) \\land P(k,x) \\land P(d,x))$\n",
    "\n",
    "#### Visszajelzés:\n",
    "\n",
    "- szintaxis: a végéről hiányzik egy zárójel\n",
    "- tartalom: majdnem jó, de a $k$-t és $d$-t nem kell megkötni kvantorral, mert ők konkrét személyek\n",
    "\n",
    "#### Példa helyes megoldásra:\n",
    "\n",
    "$\\exists x(N(x) \\land P(k,x) \\land P(d,x))$\n",
    "\n",
    "------------------------------------------------\n",
    "\n",
    "### B: *csak a férfiak között vannak gyermektelenek*\n",
    "\n",
    "#### Megoldásod:\n",
    "\n",
    "$\\exists(y)(F(y) \\land \\forall a(\\neg P(y,a)) \\land \\nexists x(N(x) \\land \\forall b(\\neg P(x,b)$\n",
    "\n",
    "#### Visszajelzés:\n",
    "\n",
    "- szintaxis: megint hiányzik pár zárójel\n",
    "- tartalom: egyébként tökéletes megoldás\n",
    "\n",
    "#### Példa helyes megoldásra:\n",
    "\n",
    "$\\forall x(\\nexists y(P(x,y)) \\Rightarrow F(x)) \\land \\exists x(\\nexists y(P(x,y)))$\n",
    "\n",
    "vagy ahogy te csináltad: $\\exists y(F(y) \\land \\forall a(\\neg P(y,a))) \\land \\nexists x(N(x) \\land \\forall b(\\neg P(x,b)))$\n",
    "\n",
    "------------------------------------------------\n",
    "\n",
    "### C: *vannak egynemű testvérek*\n",
    "\n",
    "#### Megoldásod:\n",
    "\n",
    "$\\exists(x,y,a,b)(F(a) \\land F(b) \\land P(x,a) \\land P(x,b) \\land P(y,a) \\land P(y,b)$\n",
    "\n",
    "#### Visszajelzés:\n",
    "\n",
    "- szintaxis: helyes\n",
    "- tartalom: majdnem jó, de ezzel azt fejezed ki, hogy **léteznek fiútestvérek**, pedig az eredeti állítás **csak az egyneműséget követeli meg**\n",
    "\n",
    "#### Példa helyes megoldásra:\n",
    "*Én kikötöm, hogy az egyik szülő nő, a másik férfi, mert biológiai testvérekként értelmezem az állításban szereplőket, de ezt el lehet hagyni.*\n",
    "\n",
    "$\\exists (x,y,m,f)((N(x) \\Leftrightarrow N(y)) \\land N(m) \\land P(m,x) \\land P(m,y) \\land F(f) \\land P(f,x) \\land P(f,y))$\n",
    "\n",
    "vagy, ahogy te kezdtél neki: $\\exists(x,y,a,b)(((F(a) \\land F(b)) \\lor (N(a) \\land N(b))) \\land P(x,a) \\land P(x,b) \\land P(y,a) \\land P(y,b)$"
   ]
  }
 ],
 "metadata": {
  "kernelspec": {
   "display_name": "Python 3",
   "language": "python",
   "name": "python3"
  },
  "language_info": {
   "codemirror_mode": {
    "name": "ipython",
    "version": 3
   },
   "file_extension": ".py",
   "mimetype": "text/x-python",
   "name": "python",
   "nbconvert_exporter": "python",
   "pygments_lexer": "ipython3",
   "version": "3.7.3"
  }
 },
 "nbformat": 4,
 "nbformat_minor": 2
}
