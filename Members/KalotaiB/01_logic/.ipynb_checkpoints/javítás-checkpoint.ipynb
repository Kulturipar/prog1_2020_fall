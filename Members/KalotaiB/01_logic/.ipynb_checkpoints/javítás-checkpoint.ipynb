{
 "cells": [
  {
   "cell_type": "markdown",
   "metadata": {},
   "source": [
    "### A: *k-nak és d-nek van közös lánya*\n",
    "\n",
    "#### Megoldásod:\n",
    "\n",
    "$\\exists x(N(x) \\land P(k,x) \\land P(d,x))$\n",
    "\n",
    "#### Visszajelzés:\n",
    "\n",
    "- szintaxis: ha a nyilak azt mutatják, hogy felcserélted a paramétereket, akkor helyes\n",
    "- tartalom: helyes megoldás\n",
    "\n",
    "#### Példa helyes megoldásra:\n",
    "\n",
    "$\\exists x(N(x) \\land P(k,x) \\land P(d,x))$\n",
    "\n",
    "------------------------------------------------\n",
    "\n",
    "### B: *csak a férfiak között vannak gyermektelenek*\n",
    "\n",
    "#### Megoldásod:\n",
    "\n",
    "$\\exists f(F(f) \\land \\neg P(f,x) \\land \\nexists u(N(u) \\land \\neg P(u,y)$\n",
    "\n",
    "#### Visszajelzés:\n",
    "\n",
    "- szintaxis: lemaradt pár zárójel, a $\\neg P(f,x)$ után és a legvégéről (továbbá kissé olvashatatlan az egész)\n",
    "- tartalom: $x$ és $y$ nem konkrét személyek, ezért kvantorral meg kell őket kötni (nem létezik egy $x/y$ sem, aki $f/u$-nak a gyereke)\n",
    "\n",
    "#### Példa helyes megoldásra:\n",
    "\n",
    "$\\forall x(\\nexists y(P(x,y)) \\Rightarrow F(x)) \\land \\exists x(\\nexists y(P(x,y)))$\n",
    "\n",
    "vagy: $\\exists f(F(f) \\land \\nexists x(P(f,x))) \\land \\nexists n(N(n) \\land \\nexists y(P(n,y)))$\n",
    "\n",
    "------------------------------------------------\n",
    "\n",
    "### C: *vannak egynemű testvérek*\n",
    "\n",
    "#### Megoldásod:\n",
    "\n",
    "$\\exists f(F(f)) \\land \\exists u(N(u) \\land \\exists y(P(f,y) \\land P(u,y)) \\land \\exists z(P(f,z) \\land P(u,z)$\n",
    "\n",
    "#### Visszajelzés:\n",
    "\n",
    "- szintaxis: a zárójelezés kicsit zavaros, úgy lenne helyes, hogy $\\exists f(F(f) \\land \\exists u(N(u) \\land \\exists y(P(f,y) \\land P(u,y)) \\land \\exists z(P(f,z) \\land P(u,z))))$\n",
    "- tartalom: $y$-ról és $z$-ről csak azt állítod, hogy testvérek, azt kihagytad, hogy egyneműek\n",
    "\n",
    "#### Példa helyes megoldásra:\n",
    "\n",
    "$\\exists (x,y,m,f)((N(x) \\Leftrightarrow N(y)) \\land N(m) \\land P(m,x) \\land P(m,y) \\land F(f) \\land P(f,x) \\land P(f,y))$\n",
    "\n",
    "vagy: $\\exists (x,y,m,f)(((F(x) \\land F(y)) \\lor (N(x) \\land N(y))) \\land N(m) \\land P(m,x) \\land P(m,y) \\land F(f) \\land P(f,x) \\land P(f,y))$"
   ]
  }
 ],
 "metadata": {
  "kernelspec": {
   "display_name": "Python 3",
   "language": "python",
   "name": "python3"
  },
  "language_info": {
   "codemirror_mode": {
    "name": "ipython",
    "version": 3
   },
   "file_extension": ".py",
   "mimetype": "text/x-python",
   "name": "python",
   "nbconvert_exporter": "python",
   "pygments_lexer": "ipython3",
   "version": "3.7.3"
  }
 },
 "nbformat": 4,
 "nbformat_minor": 2
}
