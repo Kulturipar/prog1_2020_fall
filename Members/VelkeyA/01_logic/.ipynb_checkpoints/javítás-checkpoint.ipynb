{
 "cells": [
  {
   "cell_type": "markdown",
   "metadata": {},
   "source": [
    "### A: *k-nak és d-nek van közös lánya*\n",
    "\n",
    "#### Megoldásod:\n",
    "\n",
    "$\\exists (k,d,y)(N(y) \\land P(d,y) \\land P(k,y))$\n",
    "\n",
    "#### Visszajelzés:\n",
    "\n",
    "- szintaxis: jó\n",
    "- tartalom: $k$-t és $d$-t nem kell kvantorral megkötni, mert konkrét személyek\n",
    "\n",
    "#### Példa helyes megoldásra:\n",
    "\n",
    "$\\exists x(N(x) \\land P(k,x) \\land P(d,x))$\n",
    "\n",
    "------------------------------------------------\n",
    "\n",
    "### B: *csak a férfiak között vannak gyermektelenek*\n",
    "\n",
    "#### Megoldásod:\n",
    "\n",
    "$\\nexists y(N(y) \\land \\exists x(P(n,x))) \\land \\exists z(F(z) \\land \\exists n(\\neg P(z,n))$\n",
    "\n",
    "#### Visszajelzés:\n",
    "\n",
    "- szintaxis: a végéről hiányzik egy zárójel (de lehet, hogy csak nem fért ki)\n",
    "- tartalom: ezzel a megoldással azt állítod, hogy **nincs olyan nő, akinek van gyereke, és van olyan férfi, akinek nem mindenki a gyereke**\n",
    "\n",
    "#### Példa helyes megoldásra:\n",
    "\n",
    "$\\forall x(\\nexists y(P(x,y)) \\Rightarrow F(x)) \\land \\exists x(\\nexists y(P(x,y)))$\n",
    "\n",
    "vagy: $\\exists f(F(f) \\land \\nexists x(P(f,x))) \\land \\nexists n(N(n) \\land \\nexists y(P(n,y)))$\n",
    "\n",
    "------------------------------------------------\n",
    "\n",
    "### C: *vannak egynemű testvérek*\n",
    "\n",
    "#### Megoldásod:\n",
    "\n",
    "$\\exists (w,d,x,y)(F(n) \\land N(d) \\land F(y) \\land F(x) \\land P(n,x) \\land P(d,y) \\land P(n,y) \\land P(d,x)) \\lor \\exists (w,d,z,zs)(F(n) \\land N(d) \\land F(z) \\land F(zs) \\land P(n,z) \\land P(n,zs) \\land P(d,z) \\land P(d,zs)$\n",
    "\n",
    "#### Visszajelzés:\n",
    "\n",
    "- szintaxis: a végéről megint lemaradt egy zárójel\n",
    "- tartalom: jó megoldás\n",
    "\n",
    "#### Példa helyes megoldásra:\n",
    "\n",
    "$\\exists (x,y,m,f)((N(x) \\Leftrightarrow N(y)) \\land N(m) \\land P(m,x) \\land P(m,y) \\land F(f) \\land P(f,x) \\land P(f,y))$\n",
    "\n",
    "vagy: $\\exists (x,y,m,f)(((F(x) \\land F(y)) \\lor (N(x) \\land N(y))) \\land N(m) \\land P(m,x) \\land P(m,y) \\land F(f) \\land P(f,x) \\land P(f,y))$"
   ]
  }
 ],
 "metadata": {
  "kernelspec": {
   "display_name": "Python 3",
   "language": "python",
   "name": "python3"
  },
  "language_info": {
   "codemirror_mode": {
    "name": "ipython",
    "version": 3
   },
   "file_extension": ".py",
   "mimetype": "text/x-python",
   "name": "python",
   "nbconvert_exporter": "python",
   "pygments_lexer": "ipython3",
   "version": "3.7.3"
  }
 },
 "nbformat": 4,
 "nbformat_minor": 2
}
