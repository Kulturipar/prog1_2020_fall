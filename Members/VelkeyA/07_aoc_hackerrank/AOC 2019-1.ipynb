{
 "cells": [
  {
   "cell_type": "code",
   "execution_count": 141,
   "metadata": {},
   "outputs": [],
   "source": [
    "import math"
   ]
  },
  {
   "cell_type": "code",
   "execution_count": 142,
   "metadata": {},
   "outputs": [],
   "source": [
    "txt = open(\"aoc.txt\")\n"
   ]
  },
  {
   "cell_type": "code",
   "execution_count": 143,
   "metadata": {},
   "outputs": [],
   "source": [
    "#megcsinalni listben a txt-t\n",
    "lista = []\n",
    "for _ in txt:\n",
    "    lista.append(_)"
   ]
  },
  {
   "cell_type": "code",
   "execution_count": 147,
   "metadata": {},
   "outputs": [
    {
     "data": {
      "text/plain": [
       "'\\n'"
      ]
     },
     "execution_count": 147,
     "metadata": {},
     "output_type": "execute_result"
    }
   ],
   "source": [
    "#megnézem hogy hogyan válasszam le a sortörést\n",
    "lista[1][-1:]"
   ]
  },
  {
   "cell_type": "code",
   "execution_count": 148,
   "metadata": {},
   "outputs": [
    {
     "name": "stdout",
     "output_type": "stream",
     "text": [
      "[74364, 146203, 128470, 91616, 115655, 134147, 53470, 126471, 70040, 88750, 142353, 143329, 86356, 118399, 97959, 148345, 117705, 87624, 63862, 71962, 106974, 66255, 119735, 78726, 93698, 148680, 144638, 83341, 149571, 147196, 54526, 91775, 63153, 143441, 71134, 114131, 120931, 109833, 106073, 64547, 126938, 52877, 89945, 59466, 79660, 147815, 55381, 100052, 78824, 121844, 104155, 117313, 69305, 144645, 81350, 123512, 81467, 120836, 118612, 143999, 90792, 71054, 138942, 56481, 71850, 85266, 77437, 86530, 147311, 133699, 126684, 58708, 149482, 104101, 67985, 81648, 95290, 77155, 76578, 116025, 83980, 59517, 62078, 89003, 126205, 122542, 116388, 144040, 102560, 77098, 127534, 56415, 85703, 85580, 86787, 72029, 82533, 132187, 70849, 98839]\n"
     ]
    }
   ],
   "source": [
    "# megcsinalom a listát rendesen, ugyhogy hogy int-ek a lista elemei\n",
    "lista2 = []\n",
    "for i in range(len(lista)):\n",
    "    if lista[i][-1:] == \"\\n\":\n",
    "        lista2.append(int(lista[i][:-1]))\n",
    "    else:\n",
    "        lista2.append(int(lista[i]))\n",
    "print(lista2)"
   ]
  },
  {
   "cell_type": "code",
   "execution_count": 218,
   "metadata": {},
   "outputs": [
    {
     "name": "stdout",
     "output_type": "stream",
     "text": [
      "[24786, 48732, 42821, 30536, 38549, 44713, 17821, 42155, 23344, 29581, 47449, 47774, 28783, 39464, 32651, 49446, 39233, 29206, 21285, 23985, 35656, 22083, 39909, 26240, 31230, 49558, 48210, 27778, 49855, 49063, 18173, 30589, 21049, 47811, 23709, 38041, 40308, 36609, 35355, 21513, 42310, 17623, 29979, 19820, 26551, 49269, 18458, 33348, 26272, 40612, 34716, 39102, 23099, 48213, 27114, 41168, 27153, 40276, 39535, 47997, 30262, 23682, 46312, 18825, 23948, 28420, 25810, 28841, 49101, 44564, 42226, 19567, 49825, 34698, 22659, 27214, 31761, 25716, 25524, 38673, 27991, 19837, 20690, 29665, 42066, 40845, 38794, 48011, 34184, 25697, 42509, 18803, 28565, 28524, 28927, 24007, 27509, 44060, 23614, 32944]\n"
     ]
    },
    {
     "data": {
      "text/plain": [
       "3332538"
      ]
     },
     "execution_count": 218,
     "metadata": {},
     "output_type": "execute_result"
    }
   ],
   "source": [
    "# part1-hez kiszámolom azt, hogy mi a szükséges üzemanyag csak a rakományhoz\n",
    "lista3 = []\n",
    "for i in range(len(lista2)):\n",
    "    fuel_req = math.floor(lista2[i] / 3) - 2\n",
    "    lista3.append(fuel_req)\n",
    "\n",
    "print(lista3)\n",
    "sum(lista3)"
   ]
  },
  {
   "cell_type": "code",
   "execution_count": 216,
   "metadata": {},
   "outputs": [],
   "source": [
    "# kiderült hogy minden modulnál külön kell megadni az adott üzemanyagot, és az adott üzemanyag üzemanyagát\n",
    "def module_by_module(lista):\n",
    "    fuel_lista2 = []\n",
    "    for i in lista:\n",
    "        fuel_req_for_module = i // 3 - 2\n",
    "        fuel_module_lista = [fuel_req_for_module]\n",
    "        while fuel_req_for_module // 3 - 2 > 0:\n",
    "            fuel_req_for_module = fuel_req_for_module // 3 - 2\n",
    "            fuel_module_lista.append(fuel_req_for_module)\n",
    "        fuel_lista2.append(sum(fuel_module_lista))\n",
    "    return sum(fuel_lista2)"
   ]
  },
  {
   "cell_type": "code",
   "execution_count": 217,
   "metadata": {},
   "outputs": [
    {
     "data": {
      "text/plain": [
       "4995942"
      ]
     },
     "execution_count": 217,
     "metadata": {},
     "output_type": "execute_result"
    }
   ],
   "source": [
    "module_by_module(lista2)\n",
    "#eredmény"
   ]
  },
  {
   "cell_type": "code",
   "execution_count": null,
   "metadata": {},
   "outputs": [],
   "source": []
  }
 ],
 "metadata": {
  "kernelspec": {
   "display_name": "Python 3",
   "language": "python",
   "name": "python3"
  },
  "language_info": {
   "codemirror_mode": {
    "name": "ipython",
    "version": 3
   },
   "file_extension": ".py",
   "mimetype": "text/x-python",
   "name": "python",
   "nbconvert_exporter": "python",
   "pygments_lexer": "ipython3",
   "version": "3.8.6"
  }
 },
 "nbformat": 4,
 "nbformat_minor": 4
}
