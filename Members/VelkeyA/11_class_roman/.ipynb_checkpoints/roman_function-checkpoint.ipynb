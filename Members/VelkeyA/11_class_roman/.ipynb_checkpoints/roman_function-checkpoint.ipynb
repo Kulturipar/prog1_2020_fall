{
 "cells": [
  {
   "cell_type": "code",
   "execution_count": 1,
   "metadata": {
    "ExecuteTime": {
     "end_time": "2020-12-02T13:01:55.500725Z",
     "start_time": "2020-12-02T13:01:50.715319Z"
    }
   },
   "outputs": [],
   "source": [
    "import requests\n",
    "from bs4 import BeautifulSoup\n",
    "import pandas as pd"
   ]
  },
  {
   "cell_type": "code",
   "execution_count": 2,
   "metadata": {
    "ExecuteTime": {
     "end_time": "2020-12-02T13:02:15.710058Z",
     "start_time": "2020-12-02T13:01:55.509896Z"
    }
   },
   "outputs": [],
   "source": [
    "roms = pd.concat([pd.DataFrame(\n",
    "    [{'arab':a.text.split()[0],'roman':a.text.split()[1]} for a in \\\n",
    " BeautifulSoup(requests.get('https://smorgasborg.artlung.com/roman-numerals/page/%d' % p) \\\n",
    "              .content,'html5lib').find('pre').find_all('a')]) for p in range(1,11)])"
   ]
  },
  {
   "cell_type": "code",
   "execution_count": 3,
   "metadata": {
    "ExecuteTime": {
     "end_time": "2020-12-02T13:02:15.740261Z",
     "start_time": "2020-12-02T13:02:15.722840Z"
    }
   },
   "outputs": [],
   "source": [
    "roms = roms[roms['arab'] != '0']"
   ]
  },
  {
   "cell_type": "code",
   "execution_count": 4,
   "metadata": {
    "ExecuteTime": {
     "end_time": "2020-12-02T13:02:15.756226Z",
     "start_time": "2020-12-02T13:02:15.744270Z"
    }
   },
   "outputs": [],
   "source": [
    "def rom2ar_test(fun): # ez azokat az eseteket adja vissza, ahol az átváltás helytelen\n",
    "    calc = roms['roman'].apply(fun)\n",
    "    tru = roms['arab'].apply(int)\n",
    "    return roms[calc != tru]"
   ]
  },
  {
   "cell_type": "code",
   "execution_count": 5,
   "metadata": {
    "ExecuteTime": {
     "end_time": "2020-12-02T13:02:15.771375Z",
     "start_time": "2020-12-02T13:02:15.760236Z"
    }
   },
   "outputs": [],
   "source": [
    "rom_string = \"MMMMCXCIX\"\n",
    "int_ar = 4199"
   ]
  },
  {
   "cell_type": "code",
   "execution_count": 6,
   "metadata": {
    "ExecuteTime": {
     "end_time": "2020-12-02T13:02:15.801307Z",
     "start_time": "2020-12-02T13:02:15.777704Z"
    }
   },
   "outputs": [],
   "source": [
    "def rom2ar(rom_string):\n",
    "    szam = []\n",
    "    ertek = 0\n",
    "    for i in range(len(rom_string)):\n",
    "        if rom_string[i] == \"I\":\n",
    "            szam.append(1)\n",
    "        elif rom_string[i] == \"V\":\n",
    "            szam.append(5)\n",
    "        elif rom_string[i] == \"X\":\n",
    "            szam.append(10)\n",
    "        elif rom_string[i] == \"C\":\n",
    "            szam.append(100)\n",
    "        elif rom_string[i] == \"L\":\n",
    "            szam.append(50)\n",
    "        elif rom_string[i] == \"D\":\n",
    "            szam.append(500)\n",
    "        elif rom_string[i] == \"M\":\n",
    "            szam.append(1000)\n",
    "    i = 0\n",
    "    \n",
    "    while i <= len(szam)-1:\n",
    "        try:\n",
    "            if szam[i] < szam[i+1]:\n",
    "                ertek += szam[i+1]-szam[i]\n",
    "                i += 2\n",
    "            else:\n",
    "                ertek += szam[i]\n",
    "                i += 1\n",
    "        except IndexError:\n",
    "            ertek += szam[-1]\n",
    "            i += 1\n",
    "        else:\n",
    "            pass\n",
    "    return ertek"
   ]
  },
  {
   "cell_type": "code",
   "execution_count": 7,
   "metadata": {
    "ExecuteTime": {
     "end_time": "2020-12-02T13:02:15.847038Z",
     "start_time": "2020-12-02T13:02:15.809877Z"
    },
    "scrolled": true
   },
   "outputs": [
    {
     "data": {
      "text/plain": [
       "4199"
      ]
     },
     "execution_count": 7,
     "metadata": {},
     "output_type": "execute_result"
    }
   ],
   "source": [
    "rom2ar(rom_string)"
   ]
  },
  {
   "cell_type": "code",
   "execution_count": 8,
   "metadata": {
    "ExecuteTime": {
     "end_time": "2020-12-02T13:02:16.139201Z",
     "start_time": "2020-12-02T13:02:15.851027Z"
    }
   },
   "outputs": [
    {
     "data": {
      "text/html": [
       "<div>\n",
       "<style scoped>\n",
       "    .dataframe tbody tr th:only-of-type {\n",
       "        vertical-align: middle;\n",
       "    }\n",
       "\n",
       "    .dataframe tbody tr th {\n",
       "        vertical-align: top;\n",
       "    }\n",
       "\n",
       "    .dataframe thead th {\n",
       "        text-align: right;\n",
       "    }\n",
       "</style>\n",
       "<table border=\"1\" class=\"dataframe\">\n",
       "  <thead>\n",
       "    <tr style=\"text-align: right;\">\n",
       "      <th></th>\n",
       "      <th>arab</th>\n",
       "      <th>roman</th>\n",
       "    </tr>\n",
       "  </thead>\n",
       "  <tbody>\n",
       "  </tbody>\n",
       "</table>\n",
       "</div>"
      ],
      "text/plain": [
       "Empty DataFrame\n",
       "Columns: [arab, roman]\n",
       "Index: []"
      ]
     },
     "execution_count": 8,
     "metadata": {},
     "output_type": "execute_result"
    }
   ],
   "source": [
    "rom2ar_test(rom2ar)"
   ]
  },
  {
   "cell_type": "code",
   "execution_count": null,
   "metadata": {},
   "outputs": [],
   "source": []
  }
 ],
 "metadata": {
  "kernelspec": {
   "display_name": "Python 3",
   "language": "python",
   "name": "python3"
  },
  "language_info": {
   "codemirror_mode": {
    "name": "ipython",
    "version": 3
   },
   "file_extension": ".py",
   "mimetype": "text/x-python",
   "name": "python",
   "nbconvert_exporter": "python",
   "pygments_lexer": "ipython3",
   "version": "3.8.6"
  }
 },
 "nbformat": 4,
 "nbformat_minor": 4
}
