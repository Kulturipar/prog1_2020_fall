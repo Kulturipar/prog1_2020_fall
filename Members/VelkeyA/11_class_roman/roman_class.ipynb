{
 "cells": [
  {
   "cell_type": "code",
   "execution_count": null,
   "metadata": {
    "ExecuteTime": {
     "end_time": "2020-12-01T23:27:38.969409Z",
     "start_time": "2020-12-01T23:27:38.950965Z"
    }
   },
   "outputs": [],
   "source": [
    "def rom2ar(rom_string):\n",
    "    szam = []\n",
    "    ertek = 0\n",
    "    for i in range(len(rom_string)):\n",
    "        if rom_string[i] == \"I\":\n",
    "            szam.append(1)\n",
    "        elif rom_string[i] == \"V\":\n",
    "            szam.append(5)\n",
    "        elif rom_string[i] == \"X\":\n",
    "            szam.append(10)\n",
    "        elif rom_string[i] == \"C\":\n",
    "            szam.append(100)\n",
    "        elif rom_string[i] == \"L\":\n",
    "            szam.append(50)\n",
    "        elif rom_string[i] == \"D\":\n",
    "            szam.append(500)\n",
    "        elif rom_string[i] == \"M\":\n",
    "            szam.append(1000)\n",
    "    i = 0\n",
    "    \n",
    "    while i <= len(szam)-1:\n",
    "        try:\n",
    "            if szam[i] < szam[i+1]:\n",
    "                ertek += szam[i+1]-szam[i]\n",
    "                i += 2\n",
    "            else:\n",
    "                ertek += szam[i]\n",
    "                i += 1\n",
    "        except IndexError:\n",
    "            ertek += szam[-1]\n",
    "            i += 1\n",
    "        else:\n",
    "            pass\n",
    "    return ertek"
   ]
  },
  {
   "cell_type": "code",
   "execution_count": null,
   "metadata": {
    "ExecuteTime": {
     "end_time": "2020-12-01T23:30:32.949797Z",
     "start_time": "2020-12-01T23:30:32.926843Z"
    }
   },
   "outputs": [],
   "source": [
    "#ez elég brute force lett, de ehhez volt kedvem\n",
    "def ar2rom(num):\n",
    "    rom_num = \"\"\n",
    "    num = str(num)\n",
    "    while num != \"\":\n",
    "        \n",
    "        if len(num) == 5:\n",
    "            rom_num += \"M\"\n",
    "            num = num.replace(num[0],\"\")\n",
    "        if len(num) == 4:\n",
    "            rom_num += \"M\"* int(num[0])\n",
    "            num = num.replace(num[0],\"\")\n",
    "        if len(num) == 3:\n",
    "            if int(num[0]) == 9:\n",
    "                rom_num += \"CM\"\n",
    "            elif int(num[0]) == 5:\n",
    "                rom_num += \"D\"\n",
    "            elif int(num[0]) < 4:\n",
    "                rom_num += \"C\"* int(num[0])\n",
    "            elif int(num[0]) == 4:\n",
    "                rom_num += \"CD\"\n",
    "            elif int(num[0]) > 5:\n",
    "                rom_num += \"D\" + \"C\"*(int(num[0])-5)\n",
    "            num = num.replace(num[0],\"\")\n",
    "        if len(num) == 2:\n",
    "            if num[0] == 9:\n",
    "                rom_num += \"XC\"\n",
    "            elif int(num[0]) == 5:\n",
    "                rom_num += \"L\"\n",
    "            elif int(num[0]) < 4:\n",
    "                rom_num += \"X\"* int(num[0])\n",
    "            elif int(num[0]) == 4:\n",
    "                rom_num += \"XL\"\n",
    "            elif int(num[0]) > 5:\n",
    "                rom_num += \"L\" + \"X\"*(int(num[0])-5)\n",
    "            num = num.replace(num[0],\"\")\n",
    "        if len(num) == 1:\n",
    "            if int(num[0]) == 9:\n",
    "                rom_num += \"IX\"\n",
    "            elif int(num[0]) == 5:\n",
    "                rom_num += \"V\"\n",
    "            elif int(num[0]) < 4:\n",
    "                rom_num += \"I\"* int(num[0])\n",
    "            elif int(num[0]) == 4:\n",
    "                rom_num += \"IV\"\n",
    "            elif int(num[0]) > 5:\n",
    "                rom_num += \"V\" + \"I\"*(int(num[0])-5)\n",
    "            num = num.replace(num[0],\"\")\n",
    "    return rom_num"
   ]
  },
  {
   "cell_type": "code",
   "execution_count": null,
   "metadata": {
    "ExecuteTime": {
     "end_time": "2020-12-01T23:27:39.390707Z",
     "start_time": "2020-12-01T23:27:39.382732Z"
    }
   },
   "outputs": [],
   "source": [
    "ar2rom(109)"
   ]
  },
  {
   "cell_type": "code",
   "execution_count": 8,
   "metadata": {
    "ExecuteTime": {
     "end_time": "2020-12-01T23:27:59.672880Z",
     "start_time": "2020-12-01T23:27:59.654926Z"
    }
   },
   "outputs": [],
   "source": [
    "class Roman:\n",
    "    \n",
    "    def __init__(self, num):\n",
    "        \n",
    "        if isinstance(num, str):\n",
    "            self.roman = num\n",
    "            self.arab = rom2ar(num)\n",
    "        \n",
    "        if isinstance(num, int):\n",
    "            self.arab = num\n",
    "            self.roman = ar2rom(num)"
   ]
  },
  {
   "cell_type": "code",
   "execution_count": 9,
   "metadata": {
    "ExecuteTime": {
     "end_time": "2020-12-01T23:28:00.125402Z",
     "start_time": "2020-12-01T23:28:00.108870Z"
    }
   },
   "outputs": [],
   "source": [
    "romaiNum = Roman(\"IV\")"
   ]
  },
  {
   "cell_type": "code",
   "execution_count": 10,
   "metadata": {
    "ExecuteTime": {
     "end_time": "2020-12-01T23:28:00.514173Z",
     "start_time": "2020-12-01T23:28:00.496222Z"
    }
   },
   "outputs": [
    {
     "data": {
      "text/plain": [
       "'IV'"
      ]
     },
     "execution_count": 10,
     "metadata": {},
     "output_type": "execute_result"
    }
   ],
   "source": [
    "romaiNum.roman"
   ]
  },
  {
   "cell_type": "code",
   "execution_count": 16,
   "metadata": {
    "ExecuteTime": {
     "end_time": "2020-12-01T23:30:42.541971Z",
     "start_time": "2020-12-01T23:30:42.534994Z"
    }
   },
   "outputs": [],
   "source": [
    "romaiNum2 = Roman(7162)"
   ]
  },
  {
   "cell_type": "code",
   "execution_count": null,
   "metadata": {
    "ExecuteTime": {
     "end_time": "2020-12-01T23:30:42.992627Z",
     "start_time": "2020-12-01T23:30:42.986649Z"
    }
   },
   "outputs": [],
   "source": [
    "romaiNum2.roman"
   ]
  },
  {
   "cell_type": "markdown",
   "metadata": {},
   "source": [
    "Szép munka, annyi, hogy ilyenkor a függvényeket a classon belül szokás definiálni, nem pedig külön cellában. Valójában csak ekkor építed be a classba a függvényt. - VÁ"
   ]
  },
  {
   "cell_type": "code",
   "execution_count": 13,
   "metadata": {},
   "outputs": [],
   "source": [
    "# pl így:\n",
    "class Roman:\n",
    "    def __init__(self, num):\n",
    "\n",
    "        if isinstance(num, str):\n",
    "            self.roman = num\n",
    "            self.arab = Roman.rom2ar(num)\n",
    "\n",
    "        if isinstance(num, int):\n",
    "            self.arab = num\n",
    "            self.roman = Roman.ar2rom(num)\n",
    "\n",
    "    def rom2ar(rom_string):\n",
    "        szam = []\n",
    "        ertek = 0\n",
    "        for i in range(len(rom_string)):\n",
    "            if rom_string[i] == \"I\":\n",
    "                szam.append(1)\n",
    "            elif rom_string[i] == \"V\":\n",
    "                szam.append(5)\n",
    "            elif rom_string[i] == \"X\":\n",
    "                szam.append(10)\n",
    "            elif rom_string[i] == \"C\":\n",
    "                szam.append(100)\n",
    "            elif rom_string[i] == \"L\":\n",
    "                szam.append(50)\n",
    "            elif rom_string[i] == \"D\":\n",
    "                szam.append(500)\n",
    "            elif rom_string[i] == \"M\":\n",
    "                szam.append(1000)\n",
    "        i = 0\n",
    "\n",
    "        while i <= len(szam) - 1:\n",
    "            try:\n",
    "                if szam[i] < szam[i + 1]:\n",
    "                    ertek += szam[i + 1] - szam[i]\n",
    "                    i += 2\n",
    "                else:\n",
    "                    ertek += szam[i]\n",
    "                    i += 1\n",
    "            except IndexError:\n",
    "                ertek += szam[-1]\n",
    "                i += 1\n",
    "            else:\n",
    "                pass\n",
    "        return ertek\n",
    "\n",
    "    # ez elég brute force lett, de ehhez volt kedvem\n",
    "    def ar2rom(num):\n",
    "        rom_num = \"\"\n",
    "        num = str(num)\n",
    "        while num != \"\":\n",
    "\n",
    "            if len(num) == 5:\n",
    "                rom_num += \"M\"\n",
    "                num = num.replace(num[0], \"\")\n",
    "            if len(num) == 4:\n",
    "                rom_num += \"M\" * int(num[0])\n",
    "                num = num.replace(num[0], \"\")\n",
    "            if len(num) == 3:\n",
    "                if int(num[0]) == 9:\n",
    "                    rom_num += \"CM\"\n",
    "                elif int(num[0]) == 5:\n",
    "                    rom_num += \"D\"\n",
    "                elif int(num[0]) < 4:\n",
    "                    rom_num += \"C\" * int(num[0])\n",
    "                elif int(num[0]) == 4:\n",
    "                    rom_num += \"CD\"\n",
    "                elif int(num[0]) > 5:\n",
    "                    rom_num += \"D\" + \"C\" * (int(num[0]) - 5)\n",
    "                num = num.replace(num[0], \"\")\n",
    "            if len(num) == 2:\n",
    "                if num[0] == 9:\n",
    "                    rom_num += \"XC\"\n",
    "                elif int(num[0]) == 5:\n",
    "                    rom_num += \"L\"\n",
    "                elif int(num[0]) < 4:\n",
    "                    rom_num += \"X\" * int(num[0])\n",
    "                elif int(num[0]) == 4:\n",
    "                    rom_num += \"XL\"\n",
    "                elif int(num[0]) > 5:\n",
    "                    rom_num += \"L\" + \"X\" * (int(num[0]) - 5)\n",
    "                num = num.replace(num[0], \"\")\n",
    "            if len(num) == 1:\n",
    "                if int(num[0]) == 9:\n",
    "                    rom_num += \"IX\"\n",
    "                elif int(num[0]) == 5:\n",
    "                    rom_num += \"V\"\n",
    "                elif int(num[0]) < 4:\n",
    "                    rom_num += \"I\" * int(num[0])\n",
    "                elif int(num[0]) == 4:\n",
    "                    rom_num += \"IV\"\n",
    "                elif int(num[0]) > 5:\n",
    "                    rom_num += \"V\" + \"I\" * (int(num[0]) - 5)\n",
    "                num = num.replace(num[0], \"\")\n",
    "\n",
    "        return rom_num"
   ]
  },
  {
   "cell_type": "code",
   "execution_count": 18,
   "metadata": {},
   "outputs": [
    {
     "data": {
      "text/plain": [
       "7162"
      ]
     },
     "execution_count": 18,
     "metadata": {},
     "output_type": "execute_result"
    }
   ],
   "source": [
    "romaiNum2.arab"
   ]
  },
  {
   "cell_type": "code",
   "execution_count": 19,
   "metadata": {},
   "outputs": [
    {
     "data": {
      "text/plain": [
       "'MMMMMMMCLXII'"
      ]
     },
     "execution_count": 19,
     "metadata": {},
     "output_type": "execute_result"
    }
   ],
   "source": [
    "romaiNum2.roman"
   ]
  },
  {
   "cell_type": "code",
   "execution_count": null,
   "metadata": {},
   "outputs": [],
   "source": []
  }
 ],
 "metadata": {
  "kernelspec": {
   "display_name": "Python 3",
   "language": "python",
   "name": "python3"
  },
  "language_info": {
   "codemirror_mode": {
    "name": "ipython",
    "version": 3
   },
   "file_extension": ".py",
   "mimetype": "text/x-python",
   "name": "python",
   "nbconvert_exporter": "python",
   "pygments_lexer": "ipython3",
   "version": "3.8.6"
  }
 },
 "nbformat": 4,
 "nbformat_minor": 4
}
