{
 "cells": [
  {
   "cell_type": "markdown",
   "metadata": {},
   "source": [
    "### A: *k-nak és d-nek van közös lánya*\n",
    "\n",
    "#### Megoldásod:\n",
    "\n",
    "$\\exists k,d(\\exists z(P(k,z) \\land P(d,z) \\land N(z))$\n",
    "\n",
    "#### Visszajelzés:\n",
    "\n",
    "- szintaxis: jó, de van tartalmi hiba\n",
    "- tartalom: $k$-t és $d$-t nem kell kvantorral megkötni, mert konkrét személyek\n",
    "\n",
    "#### Példa helyes megoldásra:\n",
    "\n",
    "$\\exists x(N(x) \\land P(k,x) \\land P(d,x))$\n",
    "\n",
    "------------------------------------------------\n",
    "\n",
    "### B: *csak a férfiak között vannak gyermektelenek*\n",
    "\n",
    "#### Megoldásod:\n",
    "\n",
    "$\\nexists x(F(x) \\land \\exists z(P(x,z)) \\land \\nexists y(N(y) \\land \\nexists z(P(y,z)))$\n",
    "\n",
    "#### Visszajelzés:\n",
    "\n",
    "- szintaxis: jó, de van tartalmi hiba\n",
    "- tartalom: azt állítod, hogy **nincs olyan férfi, akinek van gyereke**, az eredeti állítás pedig csak annyit köt ki, hogy **vannak gyermektelen férfiak** (a nőkre vonatkozó rész jó)\n",
    "\n",
    "#### Példa helyes megoldásra:\n",
    "\n",
    "$\\forall x(\\nexists y(P(x,y)) \\Rightarrow F(x)) \\land \\exists x(\\nexists y(P(x,y)))$\n",
    "\n",
    "vagy: $\\exists f(F(f) \\land \\nexists x(P(f,x))) \\land \\nexists n(N(n) \\land \\nexists y(P(n,y)))$\n",
    "\n",
    "------------------------------------------------\n",
    "\n",
    "### C: *vannak egynemű testvérek*\n",
    "\n",
    "#### Megoldásod:\n",
    "\n",
    "$\\exists x,y,z((P(z,x) \\land P(z,y) \\land N(x) \\land N(y)) \\lor (P(z,x) \\land P(z,y) \\land F(x) \\land F(y)))$\n",
    "\n",
    "vagy rövidebben: $\\exists x,y,z(P(z,x) \\land P(z,y) \\land ((N(x) \\land N(y)) \\lor (F(x) \\land F(y))))$\n",
    "\n",
    "#### Visszajelzés:\n",
    "\n",
    "- szintaxis: jó\n",
    "- tartalom: kisebb hiba, hogy a te kifejezésed szerint $x$ és $y$ féltestvérek is lehetnek, mert csak egy közös szülőt kötsz ki\n",
    "\n",
    "#### Példa helyes megoldásra:\n",
    "*Én kikötöm, hogy az egyik szülő nő, a másik férfi, mert biológiai testvérekként értelmezem az állításban szereplőket, de ezt el lehet hagyni.*\n",
    "\n",
    "$\\exists (x,y,m,f)((N(x) \\Leftrightarrow N(y)) \\land N(m) \\land P(m,x) \\land P(m,y) \\land F(f) \\land P(f,x) \\land P(f,y))$\n",
    "\n",
    "vagy: $\\exists (x,y,m,f)(((F(x) \\land F(y)) \\lor (N(x) \\land N(y))) \\land N(m) \\land P(m,x) \\land P(m,y) \\land F(f) \\land P(f,x) \\land P(f,y))$\n"
   ]
  }
 ],
 "metadata": {
  "kernelspec": {
   "display_name": "Python 3",
   "language": "python",
   "name": "python3"
  },
  "language_info": {
   "codemirror_mode": {
    "name": "ipython",
    "version": 3
   },
   "file_extension": ".py",
   "mimetype": "text/x-python",
   "name": "python",
   "nbconvert_exporter": "python",
   "pygments_lexer": "ipython3",
   "version": "3.7.3"
  }
 },
 "nbformat": 4,
 "nbformat_minor": 2
}
